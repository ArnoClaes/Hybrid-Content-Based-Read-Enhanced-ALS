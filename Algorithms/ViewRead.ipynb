{
 "cells": [
  {
   "cell_type": "code",
   "execution_count": null,
   "metadata": {
    "colab": {},
    "colab_type": "code",
    "collapsed": true,
    "id": "SOjBLcYu-EXM"
   },
   "outputs": [],
   "source": [
    "import glob\n",
    "import pandas as pd\n",
    "from google.colab import files\n",
    "from google.colab import drive\n",
    "import numpy as np\n",
    "from tqdm import tqdm\n",
    "import re\n",
    "import random\n",
    "import math\n",
    "import warnings\n",
    "warnings.filterwarnings('ignore')"
   ]
  },
  {
   "cell_type": "markdown",
   "metadata": {
    "colab_type": "text",
    "id": "zQjnAaHNJ8xB"
   },
   "source": [
    "#Load in data"
   ]
  },
  {
   "cell_type": "code",
   "execution_count": null,
   "metadata": {
    "colab": {
     "base_uri": "https://localhost:8080/",
     "height": 35
    },
    "colab_type": "code",
    "collapsed": true,
    "executionInfo": {
     "elapsed": 436,
     "status": "ok",
     "timestamp": 1550759291276,
     "user": {
      "displayName": "Arno Claes",
      "photoUrl": "",
      "userId": "18358942717775719175"
     },
     "user_tz": -60
    },
    "id": "ArhjHBzp-bN4",
    "outputId": "67fddafc-c436-4ed1-bcfa-616757741e1b"
   },
   "outputs": [],
   "source": [
    "drive.mount('/content/drive')"
   ]
  },
  {
   "cell_type": "code",
   "execution_count": null,
   "metadata": {
    "colab": {},
    "colab_type": "code",
    "collapsed": true,
    "id": "tiNrdIAO8NTZ"
   },
   "outputs": [],
   "source": [
    "df_clean_page_data = pd.read_csv(\"/content/drive/My Drive/Knab/Data/CleanData/time_delta.csv\")\n",
    "df_clean_event_data = pd.read_csv(\"/content/drive/My Drive/Knab/Data/CleanData/clean_event_data.csv\")"
   ]
  },
  {
   "cell_type": "code",
   "execution_count": null,
   "metadata": {
    "colab": {},
    "colab_type": "code",
    "collapsed": true,
    "id": "jzaSAJycDdub"
   },
   "outputs": [],
   "source": [
    "df_clean_article_data = pd.read_csv(\"/content/drive/My Drive/Knab/Data/CleanData/clean_article_data.csv\")\n",
    "df_article_time = df_clean_article_data[['URL', 'READING_TIME']]"
   ]
  },
  {
   "cell_type": "code",
   "execution_count": null,
   "metadata": {
    "colab": {},
    "colab_type": "code",
    "collapsed": true,
    "id": "wHvQR-UIwOeG"
   },
   "outputs": [],
   "source": [
    "#Find which instances contain reading condition in event data\n",
    "df_event_subset = df_clean_event_data[['clientid_hashed', 'visitid', 'URL', 'eventlabel']]\n",
    "df_event_subset = df_event_subset[df_event_subset['eventlabel'].isin(['75%','100%', 'read end article'])] #.drop_duplicates(subset=['clientid_hashed', 'visitid', 'URL'])\n",
    "df_event_subset['Confidence_level'] = 0"
   ]
  },
  {
   "cell_type": "code",
   "execution_count": null,
   "metadata": {
    "colab": {},
    "colab_type": "code",
    "collapsed": true,
    "id": "zz-t7bVHuuh-"
   },
   "outputs": [],
   "source": [
    "#Define confidences\n",
    "df_event_subset.loc[df_event_subset['eventlabel'] == 'read end article', 'Confidence_level'] = 0.9\n",
    "df_event_subset.loc[df_event_subset['eventlabel'] == '100%', 'Confidence_level'] = 0.8\n",
    "df_event_subset.loc[df_event_subset['eventlabel'] == '75%', 'Confidence_level'] = 0.5"
   ]
  },
  {
   "cell_type": "code",
   "execution_count": null,
   "metadata": {
    "colab": {},
    "colab_type": "code",
    "collapsed": true,
    "id": "Ru591MC_gME4"
   },
   "outputs": [],
   "source": [
    "#df_seen_recommendation = df_event_subset[['clientid_hashed', 'visitid', 'URL', 'hitnumber']]\n",
    "#df_seen_recommendation.to_csv('seen_recommendation.csv', index=False)"
   ]
  },
  {
   "cell_type": "code",
   "execution_count": null,
   "metadata": {
    "colab": {},
    "colab_type": "code",
    "collapsed": true,
    "id": "TEEMrtLMvyXk"
   },
   "outputs": [],
   "source": [
    "df_event_subset = df_event_subset.sort_values('Confidence_level', ascending=False).drop_duplicates(subset=['clientid_hashed', 'visitid', 'URL'], keep='first').sort_index()"
   ]
  },
  {
   "cell_type": "markdown",
   "metadata": {
    "colab_type": "text",
    "id": "FzbK2Nt7CxIi"
   },
   "source": [
    "#Find read articles per unique clientid"
   ]
  },
  {
   "cell_type": "code",
   "execution_count": null,
   "metadata": {
    "colab": {},
    "colab_type": "code",
    "collapsed": true,
    "id": "09FOmLYOCeW7"
   },
   "outputs": [],
   "source": [
    "minread = 0.5 #minimum percentage of article reading time\n",
    "maxread = 1.25 #maximum percentage of article reading time"
   ]
  },
  {
   "cell_type": "code",
   "execution_count": null,
   "metadata": {
    "colab": {},
    "colab_type": "code",
    "collapsed": true,
    "id": "o4-2Oq5VFEwk"
   },
   "outputs": [],
   "source": [
    "def transform_ms(input): #Transform all the 'x minuten' to actual milliseconds\n",
    "  output = int(re.sub(\"[^0-9.]\", \"\",input)) * 60000 #transform required reading time to milliseconds\n",
    "  return output"
   ]
  },
  {
   "cell_type": "code",
   "execution_count": null,
   "metadata": {
    "colab": {},
    "colab_type": "code",
    "collapsed": true,
    "id": "24o0NFV9ElYV"
   },
   "outputs": [],
   "source": [
    "df_article_time['READING_TIME'] = df_article_time['READING_TIME'].apply(transform_ms)  #MS transformation\n",
    "df_clean_page_data = df_clean_page_data.rename(columns={'delta_time':'time_on_page'})\n",
    "df_clean_page_data['ReadYN'] = 0\n",
    "df_clean_page_data = pd.merge(left=df_clean_page_data, right= df_article_time, left_on = 'URL', right_on = 'URL', how = 'left')\n",
    "client_list = df_clean_page_data['clientid_hashed'].unique()"
   ]
  },
  {
   "cell_type": "code",
   "execution_count": null,
   "metadata": {
    "colab": {},
    "colab_type": "code",
    "collapsed": true,
    "id": "WHnRmI5xtYmN"
   },
   "outputs": [],
   "source": [
    "df_clean_page_data = df_clean_page_data.merge(df_event_subset, how='left')"
   ]
  },
  {
   "cell_type": "code",
   "execution_count": null,
   "metadata": {
    "colab": {},
    "colab_type": "code",
    "collapsed": true,
    "id": "zQcSXpnEDqCW"
   },
   "outputs": [],
   "source": [
    "#Condition 1\n",
    "df_clean_page_data.loc[(df_clean_page_data['time_on_page'] < (df_clean_page_data[\"READING_TIME\"])*minread) & (df_clean_page_data['time_on_page'] != -1), \"ReadYN\"] = 0\n",
    "\n",
    "#Condition 2\n",
    "df_clean_page_data.loc[(df_clean_page_data['time_on_page'] > (df_clean_page_data[\"READING_TIME\"])*maxread), \"ReadYN\"] = 1\n",
    "df_clean_page_data.loc[(df_clean_page_data['time_on_page'] > (df_clean_page_data[\"READING_TIME\"])*maxread), \"Confidence_level\"] = 1\n",
    "\n",
    "#Condition 3\n",
    "(df_clean_page_data.loc[df_clean_page_data['eventlabel'].notnull() & ((df_clean_page_data['time_on_page'] == -1) | ((df_clean_page_data['time_on_page'] >= (df_clean_page_data[\"READING_TIME\"])*minread) \n",
    "                                                                      & (df_clean_page_data['time_on_page'] <= (df_clean_page_data[\"READING_TIME\"])*maxread))), \"ReadYN\"]) = 1"
   ]
  },
  {
   "cell_type": "code",
   "execution_count": null,
   "metadata": {
    "colab": {
     "base_uri": "https://localhost:8080/",
     "height": 108
    },
    "colab_type": "code",
    "collapsed": true,
    "executionInfo": {
     "elapsed": 415,
     "status": "ok",
     "timestamp": 1550744161059,
     "user": {
      "displayName": "Arno Claes",
      "photoUrl": "",
      "userId": "18358942717775719175"
     },
     "user_tz": -60
    },
    "id": "v4vwaegFPzCd",
    "outputId": "d7e45591-c9de-42fe-b931-c5ff982455e9"
   },
   "outputs": [],
   "source": [
    "df_clean_page_data['Confidence_level'].value_counts()"
   ]
  },
  {
   "cell_type": "markdown",
   "metadata": {
    "colab_type": "text",
    "id": "Eu8b_-1IkMaM"
   },
   "source": [
    "#Construct the Read, Clicked and Missing pairs matrices"
   ]
  },
  {
   "cell_type": "code",
   "execution_count": null,
   "metadata": {
    "colab": {},
    "colab_type": "code",
    "collapsed": true,
    "id": "A3Oh_qP4NPl3"
   },
   "outputs": [],
   "source": [
    "# Second argument is to select only articles, as they have an estimated scraped reading time\n",
    "# Clicked is only clicked, not read\n",
    "df_read = df_clean_page_data[(df_clean_page_data['ReadYN'] == 1) & (df_clean_page_data['READING_TIME'].notnull())][['URL', 'clientid_hashed', 'Confidence_level']] #Also drop visitid, under assumption of 1 session\n",
    "df_clicked = df_clean_page_data[(df_clean_page_data['ReadYN'] == 0) & (df_clean_page_data['READING_TIME'].notnull())][['URL', 'clientid_hashed']]\n",
    "df_clicked['clicked'] = 1"
   ]
  },
  {
   "cell_type": "code",
   "execution_count": null,
   "metadata": {
    "colab": {},
    "colab_type": "code",
    "collapsed": true,
    "id": "DM0Gtccxak7D"
   },
   "outputs": [],
   "source": [
    "# Split client list in two. All the dataframe cant fit in memory\n",
    "# split = int(len(client_list)/10)\n",
    "# splits = np.arange(1,10)*split\n",
    "# client_list_part_1 = client_list[:splits[0]]\n",
    "# client_list_part_2 = client_list[splits[0]:splits[1]]\n",
    "# client_list_part_3 = client_list[splits[1]:splits[2]]\n",
    "# client_list_part_4 = client_list[splits[2]:splits[3]]\n",
    "# client_list_part_5 = client_list[splits[3]:splits[4]]\n",
    "# client_list_part_6 = client_list[splits[4]:splits[5]]\n",
    "# client_list_part_7 = client_list[splits[5]:splits[6]]\n",
    "# client_list_part_8 = client_list[splits[6]:splits[7]]\n",
    "# client_list_part_9 = client_list[splits[7]:splits[8]]\n",
    "# client_list_part_10 = client_list[splits[8]:]"
   ]
  },
  {
   "cell_type": "code",
   "execution_count": null,
   "metadata": {
    "colab": {},
    "colab_type": "code",
    "collapsed": true,
    "id": "SYdOK37mlBxD"
   },
   "outputs": [],
   "source": [
    "df_read.to_csv('/content/drive/My Drive/Knab/Data/CleanData/ALS_inputs/read_pairs.csv', index=False)\n",
    "df_clicked.to_csv('/content/drive/My Drive/Knab/Data/CleanData/ALS_inputs/clicked_pairs.csv', index=False)"
   ]
  },
  {
   "cell_type": "markdown",
   "metadata": {},
   "source": [
    "    ## Sparsity"
   ]
  },
  {
   "cell_type": "code",
   "execution_count": null,
   "metadata": {
    "colab": {},
    "colab_type": "code",
    "collapsed": true,
    "id": "lNnrO-2KzmeR"
   },
   "outputs": [],
   "source": [
    "df_read_count = df_read['clientid_hashed'].value_counts().reset_index().rename(columns = {'index':'clientid_hashed', 'clientid_hashed':'read_count'})\n",
    "df_read_count['read_count'] = df_read_count['read_count'].astype(int)\n",
    "\n",
    "df_clicked_count = df_clicked['clientid_hashed'].value_counts().reset_index().rename(columns = {'index':'clientid_hashed', 'clientid_hashed':'clicked_count'})\n",
    "df_clicked_count['clicked_count'] = df_clicked_count['clicked_count'].astype(int)"
   ]
  },
  {
   "cell_type": "code",
   "execution_count": null,
   "metadata": {
    "colab": {},
    "colab_type": "code",
    "collapsed": true,
    "id": "evk2vH1jz5tn"
   },
   "outputs": [],
   "source": [
    "df_read_5 = df_read_count[df_read_count['read_count'] >= 5]\n",
    "df_clicked_5 = df_clicked_count[df_clicked_count['clicked_count'] >= 5]"
   ]
  },
  {
   "cell_type": "code",
   "execution_count": null,
   "metadata": {
    "colab": {},
    "colab_type": "code",
    "collapsed": true,
    "id": "WwJaMSVsyoy6"
   },
   "outputs": [],
   "source": [
    "sparsity_read = len(df_read)/(len(df_clean_page_data['clientid_hashed'].unique()) * len(df_clean_article_data['URL'].unique()))\n",
    "sparsity_clicked = len(df_clicked)/(len(df_clean_page_data['clientid_hashed'].unique()) * len(df_clean_article_data['URL'].unique()))"
   ]
  },
  {
   "cell_type": "code",
   "execution_count": null,
   "metadata": {
    "colab": {},
    "colab_type": "code",
    "collapsed": true,
    "id": "hiJ62UCP0kbJ"
   },
   "outputs": [],
   "source": [
    "sparsity_read_5 =(df_read_5['read_count'].values.sum())/(len(df_read_5['clientid_hashed'].unique()) * len(df_clean_article_data['URL'].unique()))\n",
    "sparsity_clicked_5 = (df_clicked_5['clicked_count'].values.sum())/(len(df_clicked_5['clientid_hashed'].unique()) * len(df_clean_article_data['URL'].unique()))"
   ]
  },
  {
   "cell_type": "code",
   "execution_count": null,
   "metadata": {
    "colab": {
     "base_uri": "https://localhost:8080/",
     "height": 90
    },
    "colab_type": "code",
    "collapsed": true,
    "executionInfo": {
     "elapsed": 447,
     "status": "ok",
     "timestamp": 1550750913452,
     "user": {
      "displayName": "Arno Claes",
      "photoUrl": "",
      "userId": "18358942717775719175"
     },
     "user_tz": -60
    },
    "id": "9AN17ERwzFk3",
    "outputId": "f4e303f2-52e9-481e-c112-17f459f1c3f2"
   },
   "outputs": [],
   "source": [
    "print(f\"Sparsity of read matrix is {(1-sparsity_read)*100}%\")\n",
    "print(f\"Sparsity of clicked matrix is {(1-sparsity_clicked)*100}%\")\n",
    "\n",
    "print(f\"Sparsity of read matrix of +5 readers is {(1-sparsity_read_5)*100}%\")\n",
    "print(f\"Sparsity of clicked matrix of +5 readers is {(1-sparsity_clicked_5)*100}%\")"
   ]
  }
 ],
 "metadata": {
  "colab": {
   "collapsed_sections": [],
   "name": "ViewRead.ipynb",
   "provenance": [],
   "toc_visible": true,
   "version": "0.3.2"
  },
  "kernelspec": {
   "display_name": "Python 3",
   "language": "python",
   "name": "python3"
  },
  "language_info": {
   "codemirror_mode": {
    "name": "ipython",
    "version": 3
   },
   "file_extension": ".py",
   "mimetype": "text/x-python",
   "name": "python",
   "nbconvert_exporter": "python",
   "pygments_lexer": "ipython3",
   "version": "3.6.3"
  }
 },
 "nbformat": 4,
 "nbformat_minor": 1
}
