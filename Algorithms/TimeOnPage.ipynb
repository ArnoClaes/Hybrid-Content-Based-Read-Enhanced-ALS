{
 "cells": [
  {
   "cell_type": "code",
   "execution_count": null,
   "metadata": {
    "colab": {},
    "colab_type": "code",
    "collapsed": true,
    "id": "4YzU8d6m87o7"
   },
   "outputs": [],
   "source": [
    "import glob\n",
    "import pandas as pd\n",
    "from google.colab import files\n",
    "from google.colab import drive\n",
    "import numpy as np\n",
    "from tqdm import tqdm\n",
    "import re\n",
    "import math\n",
    "import warnings\n",
    "warnings.filterwarnings('ignore')"
   ]
  },
  {
   "cell_type": "markdown",
   "metadata": {
    "colab_type": "text",
    "id": "JF4jHI7l9BCu"
   },
   "source": [
    "#Load in data"
   ]
  },
  {
   "cell_type": "code",
   "execution_count": null,
   "metadata": {
    "colab": {
     "base_uri": "https://localhost:8080/",
     "height": 128
    },
    "colab_type": "code",
    "collapsed": true,
    "executionInfo": {
     "elapsed": 23508,
     "status": "ok",
     "timestamp": 1550566340458,
     "user": {
      "displayName": "Arno Claes",
      "photoUrl": "",
      "userId": "18358942717775719175"
     },
     "user_tz": -60
    },
    "id": "5OMfThLh8_54",
    "outputId": "ab09b629-37e0-4be3-d474-9ca5a76c18a7"
   },
   "outputs": [],
   "source": [
    "drive.mount('/content/drive', force_remount = True)"
   ]
  },
  {
   "cell_type": "code",
   "execution_count": null,
   "metadata": {
    "colab": {
     "base_uri": "https://localhost:8080/",
     "height": 126
    },
    "colab_type": "code",
    "collapsed": true,
    "executionInfo": {
     "elapsed": 2242,
     "status": "ok",
     "timestamp": 1550566344177,
     "user": {
      "displayName": "Arno Claes",
      "photoUrl": "",
      "userId": "18358942717775719175"
     },
     "user_tz": -60
    },
    "id": "g15-MaEO9FtR",
    "outputId": "cfc9ce88-f514-41b5-c099-76de1021bec6"
   },
   "outputs": [],
   "source": [
    "!ls \"/content/drive/My Drive/Knab/Data/CleanData\""
   ]
  },
  {
   "cell_type": "code",
   "execution_count": null,
   "metadata": {
    "colab": {},
    "colab_type": "code",
    "collapsed": true,
    "id": "nYuiU5TE9Lzb"
   },
   "outputs": [],
   "source": [
    "df_clean_page_data = pd.read_csv(\"/content/drive/My Drive/Knab/Data/CleanData/clean_page_data.csv\")"
   ]
  },
  {
   "cell_type": "code",
   "execution_count": null,
   "metadata": {
    "colab": {},
    "colab_type": "code",
    "collapsed": true,
    "id": "NbJ33bIn9lpb"
   },
   "outputs": [],
   "source": [
    "df_page_data_useful = df_clean_page_data[['URL', 'clientid_hashed', 'visitid', 'time', 'hitnumber']]\n",
    "df_page_data_shift = df_clean_page_data[['clientid_hashed', 'visitid', 'time']].rename(columns={'clientid_hashed': 'clientid_hashed_right', 'visitid': 'visitid_right', 'time':'time_right'})"
   ]
  },
  {
   "cell_type": "code",
   "execution_count": null,
   "metadata": {
    "colab": {},
    "colab_type": "code",
    "collapsed": true,
    "id": "yPqx7DaY9mYQ"
   },
   "outputs": [],
   "source": [
    "df_page_data_left = df_page_data_useful.drop(df_page_data_useful.tail(1).index).reset_index(drop=True)\n",
    "df_page_data_right = df_page_data_shift.drop(df_page_data_shift.head(1).index).reset_index(drop=True)"
   ]
  },
  {
   "cell_type": "code",
   "execution_count": null,
   "metadata": {
    "colab": {},
    "colab_type": "code",
    "collapsed": true,
    "id": "ESW8eXJ59_4P"
   },
   "outputs": [],
   "source": [
    "df_time_calculator = pd.concat([df_page_data_left,df_page_data_right], axis=1)"
   ]
  },
  {
   "cell_type": "code",
   "execution_count": null,
   "metadata": {
    "colab": {},
    "colab_type": "code",
    "collapsed": true,
    "id": "V5B6fJQg-8WL"
   },
   "outputs": [],
   "source": [
    "df_time_calculator['delta_time'] = 0\n",
    "df_time_calculator.loc[(df_time_calculator['clientid_hashed'] == df_time_calculator['clientid_hashed_right']) & (df_time_calculator['visitid'] == df_time_calculator['visitid_right']), 'delta_time'] = df_time_calculator['time_right'] - df_time_calculator['time']"
   ]
  },
  {
   "cell_type": "code",
   "execution_count": null,
   "metadata": {
    "colab": {},
    "colab_type": "code",
    "collapsed": true,
    "id": "zzKpMe31-9HB"
   },
   "outputs": [],
   "source": [
    "df_time_calculator = df_time_calculator.drop(['clientid_hashed_right', 'visitid_right', 'time_right'], axis = 1)"
   ]
  },
  {
   "cell_type": "code",
   "execution_count": null,
   "metadata": {
    "colab": {},
    "colab_type": "code",
    "collapsed": true,
    "id": "lzPq1uzi_-2E"
   },
   "outputs": [],
   "source": [
    "df_time_delta = df_clean_page_data.merge(df_time_calculator)"
   ]
  },
  {
   "cell_type": "code",
   "execution_count": null,
   "metadata": {
    "colab": {},
    "colab_type": "code",
    "collapsed": true,
    "id": "UDKz19rzBOWy"
   },
   "outputs": [],
   "source": [
    "df_time_delta.to_csv('time_delta.csv' , index=False)"
   ]
  },
  {
   "cell_type": "code",
   "execution_count": null,
   "metadata": {
    "colab": {},
    "colab_type": "code",
    "collapsed": true,
    "id": "SCJwFMpQBu8i"
   },
   "outputs": [],
   "source": []
  }
 ],
 "metadata": {
  "colab": {
   "name": "TimeOnPage.ipynb",
   "provenance": [],
   "toc_visible": true,
   "version": "0.3.2"
  },
  "kernelspec": {
   "display_name": "Python 3",
   "language": "python",
   "name": "python3"
  },
  "language_info": {
   "codemirror_mode": {
    "name": "ipython",
    "version": 3
   },
   "file_extension": ".py",
   "mimetype": "text/x-python",
   "name": "python",
   "nbconvert_exporter": "python",
   "pygments_lexer": "ipython3",
   "version": "3.6.3"
  }
 },
 "nbformat": 4,
 "nbformat_minor": 1
}
