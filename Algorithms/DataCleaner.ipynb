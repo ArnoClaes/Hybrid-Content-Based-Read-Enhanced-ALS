{
 "cells": [
  {
   "cell_type": "markdown",
   "metadata": {
    "colab_type": "text",
    "id": "62NEkTF2NGFn"
   },
   "source": [
    "# Cleaning the data\n",
    "We need:\n",
    "\n",
    "A article data,\n",
    "K knab data\n",
    "\n",
    "1.   A- URLS without duplicates and all corresponding titles\n",
    "2.   A- Not clean URLS, with duplicates (articles)\n",
    "3.   A- Clean article text data (no duplicates)\n",
    "4.   K- Cleaned page_data\n",
    "5.   K- Cleaned event_data"
   ]
  },
  {
   "cell_type": "code",
   "execution_count": null,
   "metadata": {
    "colab": {},
    "colab_type": "code",
    "collapsed": true,
    "id": "5hUmPtCwNDUF"
   },
   "outputs": [],
   "source": [
    "import glob\n",
    "import pandas as pd\n",
    "from google.colab import files\n",
    "from google.colab import drive\n",
    "import numpy as np\n",
    "from tqdm import tqdm\n",
    "from collections import Counter\n",
    "import matplotlib.mlab as mlab\n",
    "import matplotlib.pyplot as plt"
   ]
  },
  {
   "cell_type": "code",
   "execution_count": null,
   "metadata": {
    "colab": {
     "base_uri": "https://localhost:8080/",
     "height": 68
    },
    "colab_type": "code",
    "executionInfo": {
     "elapsed": 1734,
     "status": "ok",
     "timestamp": 1549446821780,
     "user": {
      "displayName": "Arno Claes",
      "photoUrl": "",
      "userId": "18358942717775719175"
     },
     "user_tz": -60
    },
    "id": "RXl_VR9KOcpa",
    "outputId": "6670edbe-b5b1-4068-c23b-d2714c475568"
   },
   "outputs": [],
   "source": [
    "drive.mount('/content/drive')\n",
    "!ls \"/content/drive/My Drive/Knab/Data/Knab_Analytics/\""
   ]
  },
  {
   "cell_type": "markdown",
   "metadata": {
    "colab_type": "text",
    "id": "__mw8kRXNFdO"
   },
   "source": [
    "##Import all data"
   ]
  },
  {
   "cell_type": "code",
   "execution_count": null,
   "metadata": {
    "colab": {},
    "colab_type": "code",
    "collapsed": true,
    "id": "UAeLtTgYOjvo"
   },
   "outputs": [],
   "source": [
    "#Load in all the PAGE files\n",
    "page_files = glob.glob(\"/content/drive/My Drive/Knab/Data/Knab_Analytics/DataEvents/Pages/*.csv\")\n",
    "#print(page_files)\n",
    "page_dfs = [pd.read_csv(p, sep=\",\") for p in page_files]\n",
    "page_data = pd.concat(page_dfs,ignore_index=False)\n",
    "page_data.name = 'Page_Data'"
   ]
  },
  {
   "cell_type": "code",
   "execution_count": null,
   "metadata": {
    "colab": {},
    "colab_type": "code",
    "collapsed": true,
    "id": "Tl341RwaOm76"
   },
   "outputs": [],
   "source": [
    "#Load in all the EVENT files\n",
    "event_files = glob.glob(\"/content/drive/My Drive/Knab/Data/Knab_Analytics/DataEvents/Events/*.csv\")\n",
    "#print(event_files)\n",
    "event_dfs = [pd.read_csv(e, sep=\",\") for e in event_files]\n",
    "event_data = pd.concat(event_dfs,ignore_index=False)\n",
    "event_data.name = 'Event_Data'"
   ]
  },
  {
   "cell_type": "code",
   "execution_count": null,
   "metadata": {
    "colab": {},
    "colab_type": "code",
    "collapsed": true,
    "id": "L3emP-SSOo9C"
   },
   "outputs": [],
   "source": [
    "#Load in all urls with tags and text\n",
    "df_urlstext = pd.read_excel(\"/content/drive/My Drive/Knab/Data/Articles/Scraped/URLTEXT.xlsx\")"
   ]
  },
  {
   "cell_type": "code",
   "execution_count": null,
   "metadata": {
    "colab": {},
    "colab_type": "code",
    "collapsed": true,
    "id": "4N-RwT87O4ZE"
   },
   "outputs": [],
   "source": [
    "#Split dfs (remove the text for memory space)\n",
    "df_urls = df_urlstext[['URL','TAG','TITLE','DATE','READING_TIME']]"
   ]
  },
  {
   "cell_type": "markdown",
   "metadata": {
    "colab_type": "text",
    "id": "WK3Iq4N-O6nj"
   },
   "source": [
    "##Clean the url data"
   ]
  },
  {
   "cell_type": "code",
   "execution_count": null,
   "metadata": {
    "colab": {
     "base_uri": "https://localhost:8080/",
     "height": 527
    },
    "colab_type": "code",
    "executionInfo": {
     "elapsed": 930,
     "status": "ok",
     "timestamp": 1549450754536,
     "user": {
      "displayName": "Arno Claes",
      "photoUrl": "",
      "userId": "18358942717775719175"
     },
     "user_tz": -60
    },
    "id": "ws5VwSOjc5Po",
    "outputId": "78aee33f-c7fb-4a9b-b2ac-83d2394a7089"
   },
   "outputs": [],
   "source": [
    "#Change data types\n",
    "df_urls['URL'] = df_urls['URL'].astype('str')\n",
    "df_urls['TAG'] = df_urls['TAG'].astype('str')\n",
    "df_urls['TITLE'] = df_urls['TITLE'].astype('str')\n",
    "df_urls['READING_TIME'] = df_urls['READING_TIME'].astype('str')\n",
    "df_urls['DATE'] = pd.to_datetime(df_urls['DATE'])"
   ]
  },
  {
   "cell_type": "markdown",
   "metadata": {
    "colab_type": "text",
    "id": "bo7Ee0nxb-i3"
   },
   "source": [
    "## Lookup table"
   ]
  },
  {
   "cell_type": "code",
   "execution_count": null,
   "metadata": {
    "colab": {},
    "colab_type": "code",
    "collapsed": true,
    "id": "y0_R1iV0RcO9"
   },
   "outputs": [],
   "source": [
    "#Make table of all urls and add empty column\n",
    "lookup_urls = df_urls['URL'].values\n",
    "lookup_urls = np.vstack((np.zeros(len(lookup_urls)),lookup_urls)).transpose()"
   ]
  },
  {
   "cell_type": "code",
   "execution_count": null,
   "metadata": {
    "colab": {},
    "colab_type": "code",
    "collapsed": true,
    "id": "P9j2YtFORl5f"
   },
   "outputs": [],
   "source": [
    "#Fill empty column with correct urls\n",
    "duplicate_table = pd.concat(g for _, g in df_urls.groupby(\"TITLE\") if len(g) > 1) #Find all duplicates"
   ]
  },
  {
   "cell_type": "code",
   "execution_count": null,
   "metadata": {
    "colab": {},
    "colab_type": "code",
    "collapsed": true,
    "id": "7GiRKI1IPIq1"
   },
   "outputs": [],
   "source": [
    "for i in range(len(lookup_urls)):\n",
    "  if lookup_urls[:,1][i] not in duplicate_table['URL'].values:\n",
    "    lookup_urls[i,0] = lookup_urls[i,1]\n",
    "  else:\n",
    "    #Find title of duplicated url and find all the other corresponding urls\n",
    "    title = duplicate_table[duplicate_table['URL'] == lookup_urls[:,1][i]]['TITLE']\n",
    "    dup_urls = duplicate_table[duplicate_table['TITLE'] == title.values[0]]['URL']\n",
    "    true_url = dup_urls.values[0] #Take first url in the list\n",
    "    lookup_urls[i,0] = true_url"
   ]
  },
  {
   "cell_type": "code",
   "execution_count": null,
   "metadata": {
    "colab": {},
    "colab_type": "code",
    "collapsed": true,
    "id": "O0GcGX73Y3u9"
   },
   "outputs": [],
   "source": [
    "#Change to dataframe\n",
    "lookup_df = pd.DataFrame(lookup_urls)\n",
    "lookup_df.columns = ['URL', 'Reference']\n",
    "lookup_df.to_csv('lookup_urls.csv', index=False)"
   ]
  },
  {
   "cell_type": "markdown",
   "metadata": {
    "colab_type": "text",
    "id": "STBW3jkycCBv"
   },
   "source": [
    "## Article data"
   ]
  },
  {
   "cell_type": "code",
   "execution_count": null,
   "metadata": {
    "colab": {},
    "colab_type": "code",
    "collapsed": true,
    "id": "duneGmVscIvj"
   },
   "outputs": [],
   "source": [
    "#Drop all the duplicate urls\n",
    "no_duplicates = lookup_df.drop_duplicates(['URL'])"
   ]
  },
  {
   "cell_type": "code",
   "execution_count": null,
   "metadata": {
    "colab": {},
    "colab_type": "code",
    "collapsed": true,
    "id": "FZkv3juHZnhH"
   },
   "outputs": [],
   "source": [
    "#Merge with other information\n",
    "clean_article_data = pd.merge(no_duplicates, df_urlstext, left_on='URL', right_on='URL',how='left').drop(['Reference'], axis=1)\n",
    "clean_article_data.to_csv('clean_article_data.csv', index=False)"
   ]
  },
  {
   "cell_type": "markdown",
   "metadata": {
    "colab_type": "text",
    "id": "grlXy-rncMxl"
   },
   "source": [
    "# Clean the Knab data"
   ]
  },
  {
   "cell_type": "code",
   "execution_count": null,
   "metadata": {
    "colab": {},
    "colab_type": "code",
    "collapsed": true,
    "id": "v5Xbh0K8cUMl"
   },
   "outputs": [],
   "source": [
    "def remove_nan(all_data):\n",
    "  #Remove NaN column\n",
    "  all_data = all_data.loc[:, all_data.columns.notnull()]\n",
    "\n",
    "  #Drop all NaN rows\n",
    "  all_data = all_data.dropna()\n",
    "  \n",
    "  return all_data"
   ]
  },
  {
   "cell_type": "code",
   "execution_count": null,
   "metadata": {
    "colab": {},
    "colab_type": "code",
    "collapsed": true,
    "id": "pvYPgN9fcg0J"
   },
   "outputs": [],
   "source": [
    "#Drop index column and reindex\n",
    "page_data = page_data.drop(['Unnamed: 0'], axis = 1)\n",
    "page_data = page_data.reset_index(drop=True)\n",
    "\n",
    "event_data = event_data.drop(['Unnamed: 0'], axis = 1)\n",
    "event_data = event_data.reset_index(drop=True)"
   ]
  },
  {
   "cell_type": "code",
   "execution_count": null,
   "metadata": {
    "colab": {},
    "colab_type": "code",
    "collapsed": true,
    "id": "twteA387chrH"
   },
   "outputs": [],
   "source": [
    "#Drop NaNs\n",
    "page_data = remove_nan(page_data)\n",
    "event_data = remove_nan(event_data)"
   ]
  },
  {
   "cell_type": "code",
   "execution_count": null,
   "metadata": {
    "colab": {},
    "colab_type": "code",
    "collapsed": true,
    "id": "yCKYhTWicqwO"
   },
   "outputs": [],
   "source": [
    "#Change data types\n",
    "#Integers\n",
    "page_data['visitid'] = page_data['visitid'].astype('int64')\n",
    "page_data['hitnumber'] = page_data['hitnumber'].astype('int64')\n",
    "page_data['time'] = page_data['time'].astype('int64')\n",
    "page_data['BiebYN'] = page_data['BiebYN'].astype('int64')\n",
    "\n",
    "event_data['visitid'] = event_data['visitid'].astype('int64')\n",
    "event_data['hitnumber'] = event_data['hitnumber'].astype('int64')\n",
    "event_data['BiebYN'] = event_data['BiebYN'].astype('int64')\n",
    "\n",
    "#Strings\n",
    "page_data['clientid_hashed'] = page_data['clientid_hashed'].astype('str')\n",
    "page_data['pagepath'] = page_data['pagepath'].astype('str')\n",
    "page_data['channelgrouping'] = page_data['channelgrouping'].astype('str')\n",
    "page_data['browser'] = page_data['browser'].astype('str')\n",
    "page_data['devicecategory'] = page_data['devicecategory'].astype('str')\n",
    "\n",
    "event_data['clientid_hashed'] = event_data['clientid_hashed'].astype('str')\n",
    "event_data['pagepath'] = event_data['pagepath'].astype('str')\n",
    "event_data['channelgrouping'] = event_data['channelgrouping'].astype('str')\n",
    "event_data['browser'] = event_data['browser'].astype('str')\n",
    "event_data['devicecategory'] = event_data['devicecategory'].astype('str')\n",
    "event_data['eventcategory'] = event_data['eventcategory'].astype('str')\n",
    "event_data['eventlabel'] = event_data['eventlabel'].astype('str')\n",
    "event_data['ZakPart'] = event_data['ZakPart'].astype('str')\n",
    "\n",
    "\n",
    "#Datetime\n",
    "page_data['visitstarttime'] = pd.to_datetime(page_data['visitstarttime'])\n",
    "event_data['visitstarttime'] = pd.to_datetime(event_data['visitstarttime'])"
   ]
  },
  {
   "cell_type": "markdown",
   "metadata": {
    "colab_type": "text",
    "id": "hWFdq-yyt9Pm"
   },
   "source": [
    "## Clean page data"
   ]
  },
  {
   "cell_type": "code",
   "execution_count": null,
   "metadata": {
    "colab": {},
    "colab_type": "code",
    "collapsed": true,
    "id": "p22ijtgarp50"
   },
   "outputs": [],
   "source": [
    "#Replace the url duplicates with correct ones from lookup table\n",
    "merge1 = pd.merge(page_data, lookup_df, left_on = 'pagepath', right_on='Reference', how='left')\n",
    "merge1['URL'].fillna(merge1['pagepath'], inplace = True)"
   ]
  },
  {
   "cell_type": "code",
   "execution_count": null,
   "metadata": {
    "colab": {},
    "colab_type": "code",
    "collapsed": true,
    "id": "9G5qHUOztNfD"
   },
   "outputs": [],
   "source": [
    "#Remove the wrong url columns and reorder\n",
    "clean_page_data = merge1[['URL', 'clientid_hashed','visitid','visitstarttime','hitnumber','time','channelgrouping','browser','devicecategory','BiebYN']]"
   ]
  },
  {
   "cell_type": "code",
   "execution_count": null,
   "metadata": {
    "colab": {},
    "colab_type": "code",
    "collapsed": true,
    "id": "snLUBCRbtqWE"
   },
   "outputs": [],
   "source": [
    "#Save to csv\n",
    "clean_page_data.to_csv('clean_page_data.csv', index=False)"
   ]
  },
  {
   "cell_type": "markdown",
   "metadata": {
    "colab_type": "text",
    "id": "QemT45lft_XJ"
   },
   "source": [
    "##Clean event data\n"
   ]
  },
  {
   "cell_type": "code",
   "execution_count": null,
   "metadata": {
    "colab": {},
    "colab_type": "code",
    "collapsed": true,
    "id": "JmuANVlVuCoL"
   },
   "outputs": [],
   "source": [
    "#Replace the url duplicates with correct ones from lookup table\n",
    "merge2 = pd.merge(event_data, lookup_df, left_on = 'pagepath', right_on='Reference', how='left')\n",
    "merge2['URL'].fillna(merge2['pagepath'], inplace = True)"
   ]
  },
  {
   "cell_type": "code",
   "execution_count": null,
   "metadata": {
    "colab": {},
    "colab_type": "code",
    "collapsed": true,
    "id": "ZFSXFlWUuMGQ"
   },
   "outputs": [],
   "source": [
    "#Remove the wrong url columns and reorder\n",
    "clean_event_data = merge2[['URL', 'clientid_hashed','visitid','visitstarttime','hitnumber','eventcategory','eventlabel','ZakPart']]"
   ]
  },
  {
   "cell_type": "code",
   "execution_count": null,
   "metadata": {
    "colab": {},
    "colab_type": "code",
    "collapsed": true,
    "id": "gF6iyEhbu49R"
   },
   "outputs": [],
   "source": [
    "#Save to csv\n",
    "clean_event_data.to_csv('clean_event_data.csv', index=False)"
   ]
  }
 ],
 "metadata": {
  "colab": {
   "name": "DataCleaner.ipynb",
   "provenance": [],
   "toc_visible": true,
   "version": "0.3.2"
  },
  "kernelspec": {
   "display_name": "Python 3",
   "language": "python",
   "name": "python3"
  },
  "language_info": {
   "codemirror_mode": {
    "name": "ipython",
    "version": 3
   },
   "file_extension": ".py",
   "mimetype": "text/x-python",
   "name": "python",
   "nbconvert_exporter": "python",
   "pygments_lexer": "ipython3",
   "version": "3.6.3"
  }
 },
 "nbformat": 4,
 "nbformat_minor": 1
}
