{
 "cells": [
  {
   "cell_type": "code",
   "execution_count": null,
   "metadata": {
    "colab": {},
    "colab_type": "code",
    "collapsed": true,
    "id": "RK0TLJHxrSgh"
   },
   "outputs": [],
   "source": [
    "import glob\n",
    "import pandas as pd\n",
    "from google.colab import files\n",
    "from google.colab import drive\n",
    "import numpy as np\n",
    "from tqdm import tqdm\n",
    "from collections import Counter\n",
    "import matplotlib.mlab as mlab\n",
    "import matplotlib.pyplot as plt"
   ]
  },
  {
   "cell_type": "markdown",
   "metadata": {
    "colab_type": "text",
    "id": "Qg7ysQF7m2MO"
   },
   "source": [
    "#Import and transformations"
   ]
  },
  {
   "cell_type": "code",
   "execution_count": null,
   "metadata": {
    "colab": {
     "base_uri": "https://localhost:8080/",
     "height": 120
    },
    "colab_type": "code",
    "executionInfo": {
     "elapsed": 45941,
     "status": "ok",
     "timestamp": 1550051084570,
     "user": {
      "displayName": "Arno Claes",
      "photoUrl": "",
      "userId": "18358942717775719175"
     },
     "user_tz": -60
    },
    "id": "5Dl2m6vhsY9P",
    "outputId": "0726338d-0f61-44ad-f5b6-c3ea401f9055"
   },
   "outputs": [],
   "source": [
    "drive.mount('/content/drive')"
   ]
  },
  {
   "cell_type": "code",
   "execution_count": null,
   "metadata": {
    "colab": {
     "base_uri": "https://localhost:8080/",
     "height": 306
    },
    "colab_type": "code",
    "executionInfo": {
     "elapsed": 1892,
     "status": "ok",
     "timestamp": 1548859103914,
     "user": {
      "displayName": "Arno Claes",
      "photoUrl": "",
      "userId": "18358942717775719175"
     },
     "user_tz": -60
    },
    "id": "Q-vWZGQtsHBv",
    "outputId": "87214ab2-252d-439f-fea7-dfd207bda66c"
   },
   "outputs": [],
   "source": [
    "!ls \"/content/drive/My Drive/Knab/Data/Knab_Analytics/DataEvents/Events\""
   ]
  },
  {
   "cell_type": "code",
   "execution_count": null,
   "metadata": {
    "colab": {
     "base_uri": "https://localhost:8080/",
     "height": 51
    },
    "colab_type": "code",
    "executionInfo": {
     "elapsed": 1960,
     "status": "ok",
     "timestamp": 1548859105236,
     "user": {
      "displayName": "Arno Claes",
      "photoUrl": "",
      "userId": "18358942717775719175"
     },
     "user_tz": -60
    },
    "id": "Yfpap4PlnAcy",
    "outputId": "3a0ba62f-ec78-4f97-cfd8-6a7b62ead1c5"
   },
   "outputs": [],
   "source": [
    "!ls \"/content/drive/My Drive/Knab/Data/Articles/\""
   ]
  },
  {
   "cell_type": "code",
   "execution_count": null,
   "metadata": {
    "colab": {},
    "colab_type": "code",
    "collapsed": true,
    "id": "8fGmIIHXra3G"
   },
   "outputs": [],
   "source": [
    "#Load in all the PAGE files\n",
    "page_files = glob.glob(\"/content/drive/My Drive/Knab/Data/Knab_Analytics/DataEvents/Pages/*.csv\")\n",
    "#print(page_files)\n",
    "page_dfs = [pd.read_csv(p, sep=\",\") for p in page_files]\n",
    "page_data = pd.concat(page_dfs,ignore_index=False)\n",
    "page_data.name = 'Page_Data'"
   ]
  },
  {
   "cell_type": "code",
   "execution_count": null,
   "metadata": {
    "colab": {},
    "colab_type": "code",
    "collapsed": true,
    "id": "M3tScWUQRI77"
   },
   "outputs": [],
   "source": [
    "#Load in all the PAGE files\n",
    "event_files = glob.glob(\"/content/drive/My Drive/Knab/Data/Knab_Analytics/DataEvents/Events/*.csv\")\n",
    "#print(page_files)\n",
    "event_dfs = [pd.read_csv(p, sep=\",\") for p in event_files]\n",
    "event_data = pd.concat(event_dfs,ignore_index=False)\n",
    "event_data.name = 'Page_Data'"
   ]
  },
  {
   "cell_type": "code",
   "execution_count": null,
   "metadata": {
    "colab": {},
    "colab_type": "code",
    "collapsed": true,
    "id": "o9mBz9z9nMHH"
   },
   "outputs": [],
   "source": [
    "#Load in all urls with tags\n",
    "df_urlstext = pd.read_excel(\"/content/drive/My Drive/Knab/Data/Articles/Scraped/URLTEXT.xlsx\")"
   ]
  },
  {
   "cell_type": "code",
   "execution_count": null,
   "metadata": {
    "colab": {},
    "colab_type": "code",
    "collapsed": true,
    "id": "EL6JQZBfqTq_"
   },
   "outputs": [],
   "source": [
    "#Split dfs\n",
    "df_urls = df_urlstext[['URL','TAG','TITLE','DATE','READING_TIME']]"
   ]
  },
  {
   "cell_type": "code",
   "execution_count": null,
   "metadata": {
    "colab": {},
    "colab_type": "code",
    "collapsed": true,
    "id": "4-zM581WwD2I"
   },
   "outputs": [],
   "source": [
    "def remove_nan(all_data):\n",
    "  #Remove NaN column\n",
    "  all_data = all_data.loc[:, all_data.columns.notnull()]\n",
    "\n",
    "  #Drop all NaN rows\n",
    "  all_data = all_data.dropna()\n",
    "  \n",
    "  return all_data"
   ]
  },
  {
   "cell_type": "code",
   "execution_count": null,
   "metadata": {
    "colab": {},
    "colab_type": "code",
    "collapsed": true,
    "id": "lejr0frl5DRU"
   },
   "outputs": [],
   "source": [
    "page_data = remove_nan(page_data)\n",
    "event_data = remove_nan(event_data)"
   ]
  },
  {
   "cell_type": "code",
   "execution_count": null,
   "metadata": {
    "colab": {
     "base_uri": "https://localhost:8080/",
     "height": 405
    },
    "colab_type": "code",
    "executionInfo": {
     "elapsed": 645,
     "status": "ok",
     "timestamp": 1550052082941,
     "user": {
      "displayName": "Arno Claes",
      "photoUrl": "",
      "userId": "18358942717775719175"
     },
     "user_tz": -60
    },
    "id": "cvP6JOprthd7",
    "outputId": "ee9e25d1-2281-40e5-94e1-992d488eac5c"
   },
   "outputs": [],
   "source": [
    "event_data.head()"
   ]
  },
  {
   "cell_type": "code",
   "execution_count": null,
   "metadata": {
    "colab": {
     "base_uri": "https://localhost:8080/",
     "height": 510
    },
    "colab_type": "code",
    "executionInfo": {
     "elapsed": 44176,
     "status": "ok",
     "timestamp": 1548859164685,
     "user": {
      "displayName": "Arno Claes",
      "photoUrl": "",
      "userId": "18358942717775719175"
     },
     "user_tz": -60
    },
    "id": "H02C6QkfOB9l",
    "outputId": "0a9cc512-ffbb-412b-b96f-6e9ca025bb41"
   },
   "outputs": [],
   "source": [
    "#Change data types\n",
    "#Integers\n",
    "page_data['visitid'] = page_data['visitid'].astype('int64')\n",
    "page_data['hitnumber'] = page_data['hitnumber'].astype('int64')\n",
    "page_data['time'] = page_data['time'].astype('int64')\n",
    "page_data['BiebYN'] = page_data['BiebYN'].astype('int64')\n",
    "\n",
    "#Strings\n",
    "page_data['clientid_hashed'] = page_data['clientid_hashed'].astype('str')\n",
    "page_data['pagepath'] = page_data['pagepath'].astype('str')\n",
    "page_data['channelgrouping'] = page_data['channelgrouping'].astype('str')\n",
    "page_data['browser'] = page_data['browser'].astype('str')\n",
    "page_data['devicecategory'] = page_data['devicecategory'].astype('str')\n",
    "df_urls['URL'] = df_urls['URL'].astype('str')\n",
    "df_urls['TAG'] = df_urls['TAG'].astype('str')\n",
    "df_urls['TITLE'] = df_urls['TITLE'].astype('str')\n",
    "df_urls['READING_TIME'] = df_urls['READING_TIME'].astype('str')\n",
    "\n",
    "#Datetime\n",
    "page_data['visitstarttime'] = pd.to_datetime(page_data['visitstarttime'])\n",
    "df_urls['DATE'] = pd.to_datetime(df_urls['DATE'])"
   ]
  },
  {
   "cell_type": "code",
   "execution_count": null,
   "metadata": {
    "colab": {},
    "colab_type": "code",
    "collapsed": true,
    "id": "nLdhiHyi6Ij2"
   },
   "outputs": [],
   "source": [
    "#Sort chronologically\n",
    "page_data = page_data.sort_values(by=['visitstarttime'])"
   ]
  },
  {
   "cell_type": "code",
   "execution_count": null,
   "metadata": {
    "colab": {},
    "colab_type": "code",
    "collapsed": true,
    "id": "h3YvfXH66SfA"
   },
   "outputs": [],
   "source": [
    "#Drop index column and reindex\n",
    "page_data = page_data.drop(['Unnamed: 0'], axis = 1)\n",
    "page_data = page_data.reset_index(drop=True)"
   ]
  },
  {
   "cell_type": "markdown",
   "metadata": {
    "colab_type": "text",
    "id": "UDFAdngSmiv9"
   },
   "source": [
    "#Calculate the amount of 1-click users"
   ]
  },
  {
   "cell_type": "code",
   "execution_count": null,
   "metadata": {
    "colab": {},
    "colab_type": "code",
    "collapsed": true,
    "id": "BkdkPeebCa15"
   },
   "outputs": [],
   "source": [
    "#Only select bieb visits\n",
    "onlybiebs = page_data.loc[page_data['BiebYN'] == 1]"
   ]
  },
  {
   "cell_type": "code",
   "execution_count": null,
   "metadata": {
    "colab": {},
    "colab_type": "code",
    "collapsed": true,
    "id": "eISshcRBtNFn"
   },
   "outputs": [],
   "source": [
    "#Group on clientid and count their pages on bieb\n",
    "visit_biebYN = onlybiebs.groupby(['clientid_hashed'])['BiebYN'].value_counts() #Every visitid made by certain clientid, counting pages in bieb and out of bieb per visitid\n",
    "\n",
    "#List of counts\n",
    "counts = list(visit_biebYN)"
   ]
  },
  {
   "cell_type": "code",
   "execution_count": null,
   "metadata": {
    "colab": {
     "base_uri": "https://localhost:8080/",
     "height": 2125
    },
    "colab_type": "code",
    "executionInfo": {
     "elapsed": 39919,
     "status": "ok",
     "timestamp": 1548859171400,
     "user": {
      "displayName": "Arno Claes",
      "photoUrl": "",
      "userId": "18358942717775719175"
     },
     "user_tz": -60
    },
    "id": "-myzKUIJSaFw",
    "outputId": "4ea1a294-ef96-459f-e5c5-77b29f853d88"
   },
   "outputs": [],
   "source": [
    "#Calculate histogram of how often a clientid has visited bieb\n",
    "np.histogram(counts, bins = max(counts)-1)"
   ]
  },
  {
   "cell_type": "code",
   "execution_count": null,
   "metadata": {
    "colab": {
     "base_uri": "https://localhost:8080/",
     "height": 1955
    },
    "colab_type": "code",
    "executionInfo": {
     "elapsed": 37682,
     "status": "ok",
     "timestamp": 1548859171594,
     "user": {
      "displayName": "Arno Claes",
      "photoUrl": "",
      "userId": "18358942717775719175"
     },
     "user_tz": -60
    },
    "id": "iaQsat_AkMk3",
    "outputId": "2a37184f-9364-4d40-86ef-9b1905dd3cd0"
   },
   "outputs": [],
   "source": [
    "np.set_printoptions(suppress=True) #Surpresses scientific notation\n",
    "np.histogram(counts, bins = max(counts)-1)[0]/sum(np.histogram(counts, bins = max(counts)-1)[0]) # Calculate percentage of users for every occurence"
   ]
  },
  {
   "cell_type": "markdown",
   "metadata": {
    "colab_type": "text",
    "id": "jy2-LhGrmr2Y"
   },
   "source": [
    "#Calculate the amount of articles with few views"
   ]
  },
  {
   "cell_type": "code",
   "execution_count": null,
   "metadata": {
    "colab": {
     "base_uri": "https://localhost:8080/",
     "height": 2922
    },
    "colab_type": "code",
    "executionInfo": {
     "elapsed": 533,
     "status": "ok",
     "timestamp": 1550055590325,
     "user": {
      "displayName": "Arno Claes",
      "photoUrl": "",
      "userId": "18358942717775719175"
     },
     "user_tz": -60
    },
    "id": "ergpTXznmrsx",
    "outputId": "fe1b26ac-6ed5-47f5-fefe-662a3ef530ac"
   },
   "outputs": [],
   "source": [
    "df_urls"
   ]
  },
  {
   "cell_type": "code",
   "execution_count": null,
   "metadata": {
    "colab": {},
    "colab_type": "code",
    "collapsed": true,
    "id": "zuOzpuZKqeIx"
   },
   "outputs": [],
   "source": [
    "#Add zero column to count\n",
    "df_urls['COUNT'] = 0\n",
    "countlist = df_urls[['URL', 'COUNT','TAG']]"
   ]
  },
  {
   "cell_type": "code",
   "execution_count": null,
   "metadata": {
    "colab": {
     "base_uri": "https://localhost:8080/",
     "height": 34
    },
    "colab_type": "code",
    "executionInfo": {
     "elapsed": 60305,
     "status": "ok",
     "timestamp": 1550055656670,
     "user": {
      "displayName": "Arno Claes",
      "photoUrl": "",
      "userId": "18358942717775719175"
     },
     "user_tz": -60
    },
    "id": "RuKRmnLamrOS",
    "outputId": "b3ff897c-6896-418f-ba04-58f0629d9aeb"
   },
   "outputs": [],
   "source": [
    "#THIS IS NOT VERY CLEAN\n",
    "#Find every occurence when a visited page is one of the articles\n",
    "counter = []\n",
    "for i in tqdm(range(0,len(onlybiebs['pagepath'].values))):\n",
    "  if onlybiebs['pagepath'].values[i] in df_urls['URL'].values:\n",
    "    counter.append(onlybiebs['pagepath'].values[i])\n",
    "\n",
    "#Sum up all duplicates\n",
    "count_dict = dict(Counter(counter))"
   ]
  },
  {
   "cell_type": "code",
   "execution_count": null,
   "metadata": {
    "colab": {
     "base_uri": "https://localhost:8080/",
     "height": 204
    },
    "colab_type": "code",
    "executionInfo": {
     "elapsed": 146232,
     "status": "ok",
     "timestamp": 1550055814413,
     "user": {
      "displayName": "Arno Claes",
      "photoUrl": "",
      "userId": "18358942717775719175"
     },
     "user_tz": -60
    },
    "id": "GtQ5at6kw4tS",
    "outputId": "03b1c5ef-6289-4fd2-f50d-78e5f25c86ec"
   },
   "outputs": [],
   "source": [
    "#Replace counts in countlist: From dict to dataframe\n",
    "for i in tqdm(range(0,len(countlist))):\n",
    "  if countlist['URL'][i] in count_dict:\n",
    "    countlist['COUNT'][i] = count_dict[countlist['URL'][i]]\n",
    "  else:\n",
    "    countlist['COUNT'][i] = 0\n",
    "  "
   ]
  },
  {
   "cell_type": "code",
   "execution_count": null,
   "metadata": {
    "colab": {},
    "colab_type": "code",
    "collapsed": true,
    "id": "RNeuHdDgcEdn"
   },
   "outputs": [],
   "source": [
    "#Sort urls by most visited\n",
    "countlist.sort_values(['COUNT'], ascending=False).to_csv('counts.csv', index=False)  # To save .to_csv('counts.csv', index=False)"
   ]
  },
  {
   "cell_type": "code",
   "execution_count": null,
   "metadata": {
    "colab": {
     "base_uri": "https://localhost:8080/",
     "height": 34
    },
    "colab_type": "code",
    "executionInfo": {
     "elapsed": 548,
     "status": "ok",
     "timestamp": 1550055847241,
     "user": {
      "displayName": "Arno Claes",
      "photoUrl": "",
      "userId": "18358942717775719175"
     },
     "user_tz": -60
    },
    "id": "FqTOlIq1diP9",
    "outputId": "4c1fb4a5-d259-40c0-b8e7-a1c49b48af59"
   },
   "outputs": [],
   "source": [
    "#Most read article\n",
    "countlist['URL'][718]"
   ]
  },
  {
   "cell_type": "code",
   "execution_count": null,
   "metadata": {
    "colab": {
     "base_uri": "https://localhost:8080/",
     "height": 34
    },
    "colab_type": "code",
    "executionInfo": {
     "elapsed": 534,
     "status": "ok",
     "timestamp": 1550055849599,
     "user": {
      "displayName": "Arno Claes",
      "photoUrl": "",
      "userId": "18358942717775719175"
     },
     "user_tz": -60
    },
    "id": "cXaEX9Sb56D5",
    "outputId": "4bb511d9-eb12-4558-919d-723554069e7a"
   },
   "outputs": [],
   "source": [
    "#Calculate the amount of articles that have less than 10 views\n",
    "less_than_ten = countlist.loc[countlist['COUNT'] < 10]\n",
    "len(less_than_ten)/len(countlist)"
   ]
  },
  {
   "cell_type": "code",
   "execution_count": null,
   "metadata": {
    "colab": {
     "base_uri": "https://localhost:8080/",
     "height": 347
    },
    "colab_type": "code",
    "executionInfo": {
     "elapsed": 3373,
     "status": "ok",
     "timestamp": 1548851585592,
     "user": {
      "displayName": "Arno Claes",
      "photoUrl": "",
      "userId": "18358942717775719175"
     },
     "user_tz": -60
    },
    "id": "2mP4npmQ73th",
    "outputId": "bf871b04-0f49-413c-fb38-b5ade650fe5a"
   },
   "outputs": [],
   "source": [
    "#Histogram of how often articles are read\n",
    "plt.hist(countlist['COUNT'].values, 1500) #Calculate all bins\n",
    "#Actually show the plot\n",
    "plt.xlim(0,5000) #Only show values lower than ...\n",
    "plt.show()"
   ]
  },
  {
   "cell_type": "code",
   "execution_count": null,
   "metadata": {
    "colab": {},
    "colab_type": "code",
    "collapsed": true,
    "id": "sQjzLnLxx0bi"
   },
   "outputs": [],
   "source": [
    "#Add the counts to the URL list\n",
    "df_urls['COUNT'] = countlist['COUNT']"
   ]
  },
  {
   "cell_type": "markdown",
   "metadata": {
    "colab_type": "text",
    "id": "D-akklqZxRjC"
   },
   "source": [
    "#Find interesting info"
   ]
  },
  {
   "cell_type": "code",
   "execution_count": null,
   "metadata": {
    "colab": {},
    "colab_type": "code",
    "collapsed": true,
    "id": "PUn4FubqsQMR"
   },
   "outputs": [],
   "source": [
    "df_test = onlybiebs[onlybiebs.pagepath.isin(df_urls.URL)] #test snellere manier om alle articles te selecteren in onlybiebs die voorkomen in de url excel"
   ]
  },
  {
   "cell_type": "code",
   "execution_count": null,
   "metadata": {
    "colab": {},
    "colab_type": "code",
    "collapsed": true,
    "id": "CAUgYpbcufYI"
   },
   "outputs": [],
   "source": [
    "df_test"
   ]
  },
  {
   "cell_type": "code",
   "execution_count": null,
   "metadata": {
    "colab": {},
    "colab_type": "code",
    "collapsed": true,
    "id": "yV02jWtj2BBE"
   },
   "outputs": [],
   "source": [
    "#Reference the clicks to the article list.\n",
    "page_data = page_data.assign(ArticleYN=page_data.pagepath.isin(df_urls.URL).astype(int))"
   ]
  },
  {
   "cell_type": "code",
   "execution_count": null,
   "metadata": {
    "colab": {
     "base_uri": "https://localhost:8080/",
     "height": 34
    },
    "colab_type": "code",
    "executionInfo": {
     "elapsed": 979,
     "status": "ok",
     "timestamp": 1550055879490,
     "user": {
      "displayName": "Arno Claes",
      "photoUrl": "",
      "userId": "18358942717775719175"
     },
     "user_tz": -60
    },
    "id": "t1qo7bsKxpX5",
    "outputId": "76a3945c-4f09-47c3-a42c-5099c0fe2334"
   },
   "outputs": [],
   "source": [
    "#Percentage of views in the bieb that are actually articles\n",
    "sum(page_data['ArticleYN'].values)/sum(page_data['BiebYN'].values)*100"
   ]
  },
  {
   "cell_type": "code",
   "execution_count": null,
   "metadata": {
    "colab": {
     "base_uri": "https://localhost:8080/",
     "height": 34
    },
    "colab_type": "code",
    "executionInfo": {
     "elapsed": 703,
     "status": "ok",
     "timestamp": 1550055883006,
     "user": {
      "displayName": "Arno Claes",
      "photoUrl": "",
      "userId": "18358942717775719175"
     },
     "user_tz": -60
    },
    "id": "ke0o6owz5lNb",
    "outputId": "d4209f2b-8529-4c1d-8ad5-5e7b9f32747b"
   },
   "outputs": [],
   "source": [
    "#Percentage of views on knab website that are actually articles\n",
    "sum(page_data['ArticleYN'].values)/len(page_data)*100"
   ]
  },
  {
   "cell_type": "code",
   "execution_count": null,
   "metadata": {
    "colab": {
     "base_uri": "https://localhost:8080/",
     "height": 34
    },
    "colab_type": "code",
    "executionInfo": {
     "elapsed": 726,
     "status": "ok",
     "timestamp": 1550055886324,
     "user": {
      "displayName": "Arno Claes",
      "photoUrl": "",
      "userId": "18358942717775719175"
     },
     "user_tz": -60
    },
    "id": "AZvC1XMox8CJ",
    "outputId": "3bdfc840-2df7-43f3-e720-8e4b028784d0"
   },
   "outputs": [],
   "source": [
    "#Percentage of bieb on knab website\n",
    "sum(page_data['BiebYN'].values)/len(page_data)*100"
   ]
  },
  {
   "cell_type": "code",
   "execution_count": null,
   "metadata": {
    "colab": {
     "base_uri": "https://localhost:8080/",
     "height": 34
    },
    "colab_type": "code",
    "executionInfo": {
     "elapsed": 2168,
     "status": "ok",
     "timestamp": 1550055892814,
     "user": {
      "displayName": "Arno Claes",
      "photoUrl": "",
      "userId": "18358942717775719175"
     },
     "user_tz": -60
    },
    "id": "cEtRA8FJFHE6",
    "outputId": "812a8b6f-b6a4-43a7-ac44-ec80e0ca1aac"
   },
   "outputs": [],
   "source": [
    "#Percentage of article readers that are 1 article-viewers\n",
    "article_readers = page_data[page_data['ArticleYN'] == 1]\n",
    "articles_read_by_client = list(article_readers.groupby(['clientid_hashed'])['ArticleYN'].count())\n",
    "articles_read_by_client.count(1)/len(articles_read_by_client)*100"
   ]
  },
  {
   "cell_type": "code",
   "execution_count": null,
   "metadata": {
    "colab": {
     "base_uri": "https://localhost:8080/",
     "height": 34
    },
    "colab_type": "code",
    "executionInfo": {
     "elapsed": 448,
     "status": "ok",
     "timestamp": 1548851749466,
     "user": {
      "displayName": "Arno Claes",
      "photoUrl": "",
      "userId": "18358942717775719175"
     },
     "user_tz": -60
    },
    "id": "ZQ5NWIFCJ8lO",
    "outputId": "c2501547-8f63-4f72-a4b3-edb933de7b5b"
   },
   "outputs": [],
   "source": [
    "#Number of one time readers\n",
    "articles_read_by_client.count(1)"
   ]
  },
  {
   "cell_type": "code",
   "execution_count": null,
   "metadata": {
    "colab": {
     "base_uri": "https://localhost:8080/",
     "height": 34
    },
    "colab_type": "code",
    "executionInfo": {
     "elapsed": 451,
     "status": "ok",
     "timestamp": 1548851752136,
     "user": {
      "displayName": "Arno Claes",
      "photoUrl": "",
      "userId": "18358942717775719175"
     },
     "user_tz": -60
    },
    "id": "9cwFSc3sJP9V",
    "outputId": "6989b893-15a5-4658-c0d9-e3317c0cf5d4"
   },
   "outputs": [],
   "source": [
    "#Number of article readers\n",
    "len(articles_read_by_client)"
   ]
  },
  {
   "cell_type": "code",
   "execution_count": null,
   "metadata": {
    "colab": {
     "base_uri": "https://localhost:8080/",
     "height": 34
    },
    "colab_type": "code",
    "executionInfo": {
     "elapsed": 456,
     "status": "ok",
     "timestamp": 1548851755352,
     "user": {
      "displayName": "Arno Claes",
      "photoUrl": "",
      "userId": "18358942717775719175"
     },
     "user_tz": -60
    },
    "id": "wZf3bvFdJXtl",
    "outputId": "93cbce5c-84be-473f-c163-42f01cb6e0f5"
   },
   "outputs": [],
   "source": [
    "#Number of article clicks\n",
    "sum(page_data['ArticleYN'])"
   ]
  },
  {
   "cell_type": "code",
   "execution_count": null,
   "metadata": {
    "colab": {
     "base_uri": "https://localhost:8080/",
     "height": 34
    },
    "colab_type": "code",
    "executionInfo": {
     "elapsed": 615,
     "status": "ok",
     "timestamp": 1548851758201,
     "user": {
      "displayName": "Arno Claes",
      "photoUrl": "",
      "userId": "18358942717775719175"
     },
     "user_tz": -60
    },
    "id": "rhSqo8fxJp0D",
    "outputId": "90dbc955-8021-4784-c4e7-d346c19c665f"
   },
   "outputs": [],
   "source": [
    "#Number of clicks in the Bieb\n",
    "sum(page_data['BiebYN'].values)"
   ]
  },
  {
   "cell_type": "code",
   "execution_count": null,
   "metadata": {
    "colab": {
     "base_uri": "https://localhost:8080/",
     "height": 34
    },
    "colab_type": "code",
    "executionInfo": {
     "elapsed": 422,
     "status": "ok",
     "timestamp": 1548851761244,
     "user": {
      "displayName": "Arno Claes",
      "photoUrl": "",
      "userId": "18358942717775719175"
     },
     "user_tz": -60
    },
    "id": "S-5VYaDbJyIT",
    "outputId": "f89f961c-1174-4ed3-bf45-b40693462cc4"
   },
   "outputs": [],
   "source": [
    "#Number of total clicks\n",
    "len(page_data)"
   ]
  },
  {
   "cell_type": "code",
   "execution_count": null,
   "metadata": {
    "colab": {
     "base_uri": "https://localhost:8080/",
     "height": 34
    },
    "colab_type": "code",
    "executionInfo": {
     "elapsed": 448,
     "status": "ok",
     "timestamp": 1548851765303,
     "user": {
      "displayName": "Arno Claes",
      "photoUrl": "",
      "userId": "18358942717775719175"
     },
     "user_tz": -60
    },
    "id": "joBGDnT5KH4r",
    "outputId": "d999a5e9-f8df-4ae9-f3ad-7ddb17df1be0"
   },
   "outputs": [],
   "source": [
    "#Actually useful datapoints\n",
    "sum(page_data['ArticleYN'])-articles_read_by_client.count(1)"
   ]
  },
  {
   "cell_type": "code",
   "execution_count": null,
   "metadata": {
    "colab": {
     "base_uri": "https://localhost:8080/",
     "height": 34
    },
    "colab_type": "code",
    "executionInfo": {
     "elapsed": 432,
     "status": "ok",
     "timestamp": 1548851784818,
     "user": {
      "displayName": "Arno Claes",
      "photoUrl": "",
      "userId": "18358942717775719175"
     },
     "user_tz": -60
    },
    "id": "eoUK65RsKal4",
    "outputId": "99d4c0dc-7de4-4f8c-baa2-83ac7f9c7a69"
   },
   "outputs": [],
   "source": [
    "#Average amount of clicks except with 1clickers\n",
    "(sum(page_data['ArticleYN'])-articles_read_by_client.count(1))/(len(articles_read_by_client)-articles_read_by_client.count(1))"
   ]
  },
  {
   "cell_type": "code",
   "execution_count": null,
   "metadata": {
    "colab": {
     "base_uri": "https://localhost:8080/",
     "height": 102
    },
    "colab_type": "code",
    "executionInfo": {
     "elapsed": 612,
     "status": "ok",
     "timestamp": 1548851806471,
     "user": {
      "displayName": "Arno Claes",
      "photoUrl": "",
      "userId": "18358942717775719175"
     },
     "user_tz": -60
    },
    "id": "swgFLR-M81gr",
    "outputId": "63f49a39-b1d7-41b9-cf8c-e719b206cc22"
   },
   "outputs": [],
   "source": [
    "#Rename the columns - Easier merging\n",
    "article_readers.rename(columns={'clientid_hashed': 'clientid_hashed', 'visitid': 'visitid', 'visitstarttime': 'visitstarttime', 'hitnumber': 'hitnumber', 'time': 'time', 'pagepath': 'URL', 'channelgrouping': 'channelgrouping', 'browser': 'browser', 'devicecategory': 'devicecategory', 'BiebYN': 'BiebYN', 'ArticleYN': 'ArticleYN'}, inplace=True)"
   ]
  },
  {
   "cell_type": "code",
   "execution_count": null,
   "metadata": {
    "colab": {
     "base_uri": "https://localhost:8080/",
     "height": 4012
    },
    "colab_type": "code",
    "executionInfo": {
     "elapsed": 2002,
     "status": "ok",
     "timestamp": 1548851815251,
     "user": {
      "displayName": "Arno Claes",
      "photoUrl": "",
      "userId": "18358942717775719175"
     },
     "user_tz": -60
    },
    "id": "9BK3pCOt9N7E",
    "outputId": "c737c64a-236d-40f2-a00d-dc5ff8176fed"
   },
   "outputs": [],
   "source": [
    "#Merge and drop count list\n",
    "article_readers = article_readers.merge(df_urls, how='left')\n",
    "article_readers.drop(['COUNT'], axis=1)"
   ]
  },
  {
   "cell_type": "code",
   "execution_count": null,
   "metadata": {
    "colab": {
     "base_uri": "https://localhost:8080/",
     "height": 1010
    },
    "colab_type": "code",
    "executionInfo": {
     "elapsed": 1367,
     "status": "ok",
     "timestamp": 1548851823710,
     "user": {
      "displayName": "Arno Claes",
      "photoUrl": "",
      "userId": "18358942717775719175"
     },
     "user_tz": -60
    },
    "id": "1obvPZLt_dx7",
    "outputId": "73ab3e9f-3ac9-46eb-ad2c-45d9671041dd"
   },
   "outputs": [],
   "source": [
    "article_readers.groupby(['TAG']).agg(['count'])['clientid_hashed']"
   ]
  },
  {
   "cell_type": "markdown",
   "metadata": {
    "colab_type": "text",
    "id": "Tjlp6RpgE-Bp"
   },
   "source": [
    "#Pipeline: export data to find old recommendations\n",
    "We need to export all the data, with a merge between url and all_data"
   ]
  },
  {
   "cell_type": "code",
   "execution_count": null,
   "metadata": {
    "colab": {},
    "colab_type": "code",
    "collapsed": true,
    "id": "Vak6qDkworiK"
   },
   "outputs": [],
   "source": [
    "page_data = page_data.merge(df_urls, how='left')\n",
    "export_data = page_data.drop(['COUNT'], axis=1)"
   ]
  },
  {
   "cell_type": "code",
   "execution_count": null,
   "metadata": {
    "colab": {},
    "colab_type": "code",
    "collapsed": true,
    "id": "NVv-f1FdpRTi"
   },
   "outputs": [],
   "source": [
    "#Export to CSV file\n",
    "export_data.to_csv(\"merged_data.csv\", index=False)\n",
    "#Open tab on left and download csv file"
   ]
  }
 ],
 "metadata": {
  "colab": {
   "collapsed_sections": [],
   "name": "DataExplore.ipynb",
   "provenance": [],
   "toc_visible": true,
   "version": "0.3.2"
  },
  "kernelspec": {
   "display_name": "Python 3",
   "language": "python",
   "name": "python3"
  },
  "language_info": {
   "codemirror_mode": {
    "name": "ipython",
    "version": 3
   },
   "file_extension": ".py",
   "mimetype": "text/x-python",
   "name": "python",
   "nbconvert_exporter": "python",
   "pygments_lexer": "ipython3",
   "version": "3.6.3"
  }
 },
 "nbformat": 4,
 "nbformat_minor": 1
}
