{
 "cells": [
  {
   "cell_type": "code",
   "execution_count": null,
   "metadata": {
    "colab": {},
    "colab_type": "code",
    "collapsed": true,
    "id": "7YmatIBz1-72"
   },
   "outputs": [],
   "source": [
    "import glob\n",
    "import pandas as pd\n",
    "from google.colab import files\n",
    "from google.colab import drive\n",
    "import numpy as np\n",
    "from tqdm import tqdm\n",
    "import re\n",
    "import math\n",
    "import warnings\n",
    "warnings.filterwarnings('ignore')"
   ]
  },
  {
   "cell_type": "markdown",
   "metadata": {
    "colab_type": "text",
    "id": "E8YSNQpm2EpQ"
   },
   "source": [
    "#Load in data"
   ]
  },
  {
   "cell_type": "code",
   "execution_count": null,
   "metadata": {
    "colab": {
     "base_uri": "https://localhost:8080/",
     "height": 122
    },
    "colab_type": "code",
    "executionInfo": {
     "elapsed": 20527,
     "status": "ok",
     "timestamp": 1551883258663,
     "user": {
      "displayName": "Lennert Aerts",
      "photoUrl": "",
      "userId": "08865342511418318534"
     },
     "user_tz": -60
    },
    "id": "Pz0sfXlf2DtY",
    "outputId": "6eba3ee0-13b5-4cc8-fcf4-1e55258fd170"
   },
   "outputs": [],
   "source": [
    "drive.mount('/content/drive', force_remount = True)"
   ]
  },
  {
   "cell_type": "code",
   "execution_count": null,
   "metadata": {
    "colab": {
     "base_uri": "https://localhost:8080/",
     "height": 145
    },
    "colab_type": "code",
    "executionInfo": {
     "elapsed": 24276,
     "status": "ok",
     "timestamp": 1550763676463,
     "user": {
      "displayName": "Arno Claes",
      "photoUrl": "",
      "userId": "18358942717775719175"
     },
     "user_tz": -60
    },
    "id": "idL0vBii8MLy",
    "outputId": "d16eea72-d152-400a-faa2-67d2a10c75a4"
   },
   "outputs": [],
   "source": [
    "!ls \"/content/drive/My Drive/Knab/Data/CleanData/\""
   ]
  },
  {
   "cell_type": "code",
   "execution_count": null,
   "metadata": {
    "colab": {},
    "colab_type": "code",
    "collapsed": true,
    "id": "a0ZHyog02JIr"
   },
   "outputs": [],
   "source": [
    "input_recommendation = pd.read_csv(\"/content/drive/My Drive/Knab/Data/CleanData/data_recommendations.csv\")\n",
    "input_clean_page_data = pd.read_csv(\"/content/drive/My Drive/Knab/Data/CleanData/clean_page_data.csv\")\n",
    "input_seen_recommendation = pd.read_csv(\"/content/drive/My Drive/Knab/Data/CleanData/seen_recommendation.csv\") #event data"
   ]
  },
  {
   "cell_type": "code",
   "execution_count": null,
   "metadata": {
    "colab": {},
    "colab_type": "code",
    "collapsed": true,
    "id": "u3sg79Oa6BHS"
   },
   "outputs": [],
   "source": [
    "df_seen_recommendation = input_seen_recommendation.drop(['hitnumber'], axis = 1)\n",
    "df_seen_recommendation['seen_recommendations'] = 1"
   ]
  },
  {
   "cell_type": "code",
   "execution_count": null,
   "metadata": {
    "colab": {},
    "colab_type": "code",
    "collapsed": true,
    "id": "mYFgrIcQ24nK"
   },
   "outputs": [],
   "source": [
    "#The old recommendations got converted to strings when loading the data\n",
    "def string_to_array(string):\n",
    "  string = string.replace('[', '').replace(']', '').replace(\"'\", \"\").replace(' ', '').split('\\r\\n')\n",
    "  \n",
    "  return string"
   ]
  },
  {
   "cell_type": "code",
   "execution_count": null,
   "metadata": {
    "colab": {},
    "colab_type": "code",
    "collapsed": true,
    "id": "sof0JlAW253A"
   },
   "outputs": [],
   "source": [
    "input_recommendation['old_recommendations'] = input_recommendation['old_recommendations'].apply(string_to_array)"
   ]
  },
  {
   "cell_type": "code",
   "execution_count": null,
   "metadata": {
    "colab": {},
    "colab_type": "code",
    "collapsed": true,
    "id": "LjOljQZh2ZeM"
   },
   "outputs": [],
   "source": [
    "columns_rec = pd.DataFrame(input_recommendation.old_recommendations.tolist(), columns=['rec_1', 'rec_2', 'rec_3'])\n",
    "df_recommended_articles =  pd.concat([input_recommendation,columns_rec], axis=1).drop(['old_recommendations'], axis = 1)"
   ]
  },
  {
   "cell_type": "code",
   "execution_count": null,
   "metadata": {
    "colab": {},
    "colab_type": "code",
    "collapsed": true,
    "id": "SB-Ae2cL2u_D"
   },
   "outputs": [],
   "source": [
    "df_data = pd.merge(left = input_clean_page_data, right = df_recommended_articles[['URL', 'clientid_hashed', 'visitid', 'hitnumber', 'ArticleYN', 'rec_1', 'rec_2', 'rec_3']], left_on = ['URL', 'clientid_hashed', 'visitid', 'hitnumber'], right_on= ['URL', 'clientid_hashed', 'visitid', 'hitnumber'], how='left')\n",
    "df_data = pd.merge(left = df_data, right = df_seen_recommendation, left_on = ['URL', 'clientid_hashed', 'visitid'], right_on = ['URL', 'clientid_hashed', 'visitid'], how='left').fillna(0)\n",
    "df_data = df_data.drop_duplicates(['URL', 'clientid_hashed', 'visitid', 'hitnumber', 'visitstarttime'])"
   ]
  },
  {
   "cell_type": "code",
   "execution_count": null,
   "metadata": {
    "colab": {},
    "colab_type": "code",
    "collapsed": true,
    "id": "1ADz9hzG8q-_"
   },
   "outputs": [],
   "source": [
    "df_data_shifted = df_data[['clientid_hashed', 'URL']].rename(columns={'clientid_hashed': 'clientid_hashed_right', 'URL': 'URL_right'})"
   ]
  },
  {
   "cell_type": "code",
   "execution_count": null,
   "metadata": {
    "colab": {},
    "colab_type": "code",
    "collapsed": true,
    "id": "k-vPUgev8tmk"
   },
   "outputs": [],
   "source": [
    "df_data_shift_left = df_data.drop(df_data.tail(1).index).reset_index(drop=True)\n",
    "df_data_shift_right = df_data_shifted.drop(df_data_shifted.head(1).index).reset_index(drop=True)\n",
    "df_click_check = pd.concat([df_data_shift_left,df_data_shift_right], axis=1)\n",
    "df_click_check['same_client'] = np.where(((df_click_check['clientid_hashed'] == df_click_check['clientid_hashed_right'])),1,0)\n",
    "df_click_check = df_click_check[df_click_check['same_client'] == 1]\n",
    "df_click_check = df_click_check[df_click_check['BiebYN'] == 1]\n",
    "df_click_check = df_click_check[df_click_check['ArticleYN'] == 1]\n",
    "df_click_check = df_click_check[df_click_check['seen_recommendations'] == 1]"
   ]
  },
  {
   "cell_type": "code",
   "execution_count": null,
   "metadata": {
    "colab": {},
    "colab_type": "code",
    "collapsed": true,
    "id": "0A_eEUn5_X1B"
   },
   "outputs": [],
   "source": [
    "df_click_check['clicked_recommendation'] = 0\n",
    "df_click_check = df_click_check.drop(['clientid_hashed_right', 'channelgrouping', 'browser', 'devicecategory'], axis = 1)\n",
    "df_click_check.loc[(df_click_check['URL_right'] == df_click_check['rec_1']), 'clicked_recommendation'] = 'rec_1'\n",
    "df_click_check.loc[(df_click_check['URL_right'] == df_click_check['rec_2']), 'clicked_recommendation'] = 'rec_2'\n",
    "df_click_check.loc[(df_click_check['URL_right'] == df_click_check['rec_3']), 'clicked_recommendation'] = 'rec_3'\n",
    "df_click_check = df_click_check.drop_duplicates(['URL', 'clientid_hashed', 'visitid', 'hitnumber', 'visitstarttime'],keep='last')"
   ]
  },
  {
   "cell_type": "code",
   "execution_count": null,
   "metadata": {
    "colab": {},
    "colab_type": "code",
    "collapsed": true,
    "id": "VQ8gqMiZ_6EG"
   },
   "outputs": [],
   "source": [
    "df_data = pd.merge(left = df_data, right = df_click_check[['URL', 'clientid_hashed', 'visitid', 'hitnumber', 'clicked_recommendation']], left_on = ['URL', 'clientid_hashed', 'visitid', 'hitnumber'], right_on= ['URL', 'clientid_hashed', 'visitid', 'hitnumber'], how='left')\n",
    "df_data = df_data.drop_duplicates(['URL', 'clientid_hashed', 'visitid', 'hitnumber', 'visitstarttime']).fillna(0)"
   ]
  },
  {
   "cell_type": "code",
   "execution_count": null,
   "metadata": {
    "colab": {},
    "colab_type": "code",
    "collapsed": true,
    "id": "YqdqhH_nb-FZ"
   },
   "outputs": [],
   "source": [
    "df_data['clicked_url'] = 0\n",
    "df_data.loc[df_data['clicked_recommendation'] == 'rec_1', 'clicked_url'] = df_data['rec_1']\n",
    "df_data.loc[df_data['clicked_recommendation'] == 'rec_2', 'clicked_url'] = df_data['rec_2']\n",
    "df_data.loc[df_data['clicked_recommendation'] == 'rec_3', 'clicked_url'] = df_data['rec_3']"
   ]
  },
  {
   "cell_type": "code",
   "execution_count": null,
   "metadata": {
    "colab": {},
    "colab_type": "code",
    "collapsed": true,
    "id": "cBobLngschCr"
   },
   "outputs": [],
   "source": [
    "count_list_recommended = df_data[(df_data['clicked_recommendation'] != 0) & (df_data['URL'] != df_data['clicked_url'])]['clicked_url'].value_counts()"
   ]
  },
  {
   "cell_type": "code",
   "execution_count": null,
   "metadata": {
    "colab": {},
    "colab_type": "code",
    "collapsed": true,
    "id": "vmQ9j85hPBuo"
   },
   "outputs": [],
   "source": [
    "df_data.to_csv(\"/content/drive/My Drive/Knab/Data/CleanData/clean_page_data_recommendations.csv\", index = False)"
   ]
  },
  {
   "cell_type": "code",
   "execution_count": null,
   "metadata": {
    "colab": {},
    "colab_type": "code",
    "collapsed": true,
    "id": "G7ZEg7mUK-Lg"
   },
   "outputs": [],
   "source": [
    "df_clean_page_data_recom = pd.read_csv(\"/content/drive/My Drive/Knab/Data/CleanData/clean_page_data_recommendations.csv\")"
   ]
  },
  {
   "cell_type": "code",
   "execution_count": null,
   "metadata": {
    "colab": {},
    "colab_type": "code",
    "collapsed": true,
    "id": "nicnx7vjKq0y"
   },
   "outputs": [],
   "source": [
    "df_timedelta = pd.read_csv(\"/content/drive/My Drive/Knab/Data/CleanData/time_delta.csv\")"
   ]
  },
  {
   "cell_type": "code",
   "execution_count": null,
   "metadata": {
    "colab": {},
    "colab_type": "code",
    "collapsed": true,
    "id": "HObTMdDDMar4"
   },
   "outputs": [],
   "source": [
    "df_clean_page_data_recom_timedelta = pd.merge(left = df_clean_page_data_recom, right = df_timedelta[['URL', 'clientid_hashed', 'visitid', 'hitnumber','delta_time']], left_on = ['URL', 'clientid_hashed', 'visitid', 'hitnumber'], right_on = ['URL', 'clientid_hashed', 'visitid', 'hitnumber'], how = 'left')"
   ]
  },
  {
   "cell_type": "code",
   "execution_count": null,
   "metadata": {
    "colab": {},
    "colab_type": "code",
    "collapsed": true,
    "id": "_f1eRcWMNMTf"
   },
   "outputs": [],
   "source": [
    "df_clean_page_data_recom_timedelta.to_csv(\"/content/drive/My Drive/Knab/Data/CleanData/clean_page_data_recom_timedelta.csv\", index = False)"
   ]
  },
  {
   "cell_type": "markdown",
   "metadata": {
    "colab_type": "text",
    "id": "iQCJYroxPHSX"
   },
   "source": [
    "#Checking 'biased' articles"
   ]
  },
  {
   "cell_type": "code",
   "execution_count": null,
   "metadata": {
    "colab": {},
    "colab_type": "code",
    "collapsed": true,
    "id": "eztHNCLFQmEq"
   },
   "outputs": [],
   "source": [
    "df_clean_page_data_recom_timedelta = pd.read_csv(\"/content/drive/My Drive/Knab/Data/CleanData/clean_page_data_recom_timedelta.csv\")"
   ]
  },
  {
   "cell_type": "code",
   "execution_count": null,
   "metadata": {
    "colab": {},
    "colab_type": "code",
    "collapsed": true,
    "id": "Ep7-W1XFPD-V"
   },
   "outputs": [],
   "source": [
    "df_work = df_clean_page_data_recom_timedelta"
   ]
  },
  {
   "cell_type": "code",
   "execution_count": null,
   "metadata": {
    "colab": {},
    "colab_type": "code",
    "collapsed": true,
    "id": "MQW-LNajPop1"
   },
   "outputs": [],
   "source": [
    "df_work = df_work[df_work['ArticleYN'] == 1.0] # only take data points which are article clicks"
   ]
  },
  {
   "cell_type": "code",
   "execution_count": null,
   "metadata": {
    "colab": {},
    "colab_type": "code",
    "collapsed": true,
    "id": "4vHS7W6RRLxt"
   },
   "outputs": [],
   "source": [
    "df_click_recom = df_work[df_work['clicked_url'] != \"0\"]['clicked_url'].value_counts().reset_index().rename(columns = {'index' : 'URL', 'clicked_url' : 'count_rec'})"
   ]
  },
  {
   "cell_type": "code",
   "execution_count": null,
   "metadata": {
    "colab": {},
    "colab_type": "code",
    "collapsed": true,
    "id": "_v5898iuP2cO"
   },
   "outputs": [],
   "source": [
    "df_click_bieb = df_work['URL'].value_counts().reset_index().rename(columns = {'index' : 'URL', 'URL' : 'count'})"
   ]
  },
  {
   "cell_type": "code",
   "execution_count": null,
   "metadata": {
    "colab": {},
    "colab_type": "code",
    "collapsed": true,
    "id": "5rjiD_fsP5oW"
   },
   "outputs": [],
   "source": [
    "df_rec1 = df_work['rec_1'].value_counts().reset_index().rename(columns = {'index' : 'URL', 'URL' : 'count_rec1'})\n",
    "df_rec2 = df_work['rec_2'].value_counts().reset_index().rename(columns = {'index' : 'URL', 'URL' : 'count_rec2'})\n",
    "df_rec3 = df_work['rec_3'].value_counts().reset_index().rename(columns = {'index' : 'URL', 'URL' : 'count_rec3'})"
   ]
  },
  {
   "cell_type": "code",
   "execution_count": null,
   "metadata": {
    "colab": {},
    "colab_type": "code",
    "collapsed": true,
    "id": "5rrDlFFPS01X"
   },
   "outputs": [],
   "source": [
    "#Merge all Article clicks (df_click_bieb), no. times recommended (df_rec1,2,3) and no. clicked on recommendation (df_click_recom)\n",
    "df_bias_counts = df_click_bieb.merge(df_click_recom, how = \"left\").merge(df_rec1, how = \"left\").merge(df_rec2, how = \"left\").merge(df_rec3, how = \"left\").fillna(0)\n",
    "df_bias_counts['number_rec'] = df_bias_counts['rec_1'] + df_bias_counts['rec_2'] + df_bias_counts['rec_3']\n",
    "df_bias_counts = df_bias_counts.drop(['rec_1', 'rec_2', 'rec_3'], axis = 1)"
   ]
  },
  {
   "cell_type": "code",
   "execution_count": null,
   "metadata": {
    "colab": {},
    "colab_type": "code",
    "collapsed": true,
    "id": "tbpDUlO8VbpJ"
   },
   "outputs": [],
   "source": [
    "#Calculate probability of being clicked given being recommended\n",
    "df_bias_counts['prob_click_given_rec'] = np.where((df_bias_counts['number_rec'] > 0), df_bias_counts['count_rec']/df_bias_counts['number_rec'], 0)"
   ]
  },
  {
   "cell_type": "code",
   "execution_count": null,
   "metadata": {
    "colab": {},
    "colab_type": "code",
    "collapsed": true,
    "id": "JcwoMGcRVwXr"
   },
   "outputs": [],
   "source": [
    "#Calculate probability of being clicked given not being recommended\n",
    "df_bias_counts['prob_click_given_not_rec'] = (df_bias_counts['count'] - df_bias_counts['count_rec'])/ (df_bias_counts['count'].values.sum() - df_bias_counts['number_rec'])"
   ]
  },
  {
   "cell_type": "code",
   "execution_count": null,
   "metadata": {
    "colab": {},
    "colab_type": "code",
    "collapsed": true,
    "id": "MJfEh07tXUQV"
   },
   "outputs": [],
   "source": [
    "#Calculate bias = difference in probabilities\n",
    "df_bias_counts['article_bias'] = 100*(df_bias_counts['prob_click_given_rec'] - df_bias_counts['prob_click_given_not_rec'])"
   ]
  },
  {
   "cell_type": "code",
   "execution_count": null,
   "metadata": {
    "colab": {},
    "colab_type": "code",
    "collapsed": true,
    "id": "uVtr65qeZ4qo"
   },
   "outputs": [],
   "source": [
    "#Average bias among URLs that are recommended ( > 0)\n",
    "avg_bias = np.mean(df_bias_counts[df_bias_counts['number_rec'] > 0]['article_bias'].values)"
   ]
  },
  {
   "cell_type": "code",
   "execution_count": null,
   "metadata": {
    "colab": {},
    "colab_type": "code",
    "collapsed": true,
    "id": "FJmPB8eHcL40"
   },
   "outputs": [],
   "source": [
    "#Weighted average bias among URLs that are recommended, weighted on fraction of clicks on total clicks of recommended articles\n",
    "weighted_avg_bias = np.average(df_bias_counts[df_bias_counts['number_rec'] > 0]['article_bias'].values,weights = df_bias_counts[df_bias_counts['number_rec'] > 0]['count'].values/df_bias_counts[df_bias_counts['number_rec'] > 0]['count'].values.sum())"
   ]
  },
  {
   "cell_type": "code",
   "execution_count": null,
   "metadata": {
    "colab": {},
    "colab_type": "code",
    "collapsed": true,
    "id": "ncaQioDydRkt"
   },
   "outputs": [],
   "source": [
    "# t_score of weighted average bias\n",
    "z_score = weighted_avg_bias/np.std(df_bias_counts[df_bias_counts['number_rec'] > 0]['article_bias'].values)"
   ]
  },
  {
   "cell_type": "code",
   "execution_count": null,
   "metadata": {
    "colab": {
     "base_uri": "https://localhost:8080/",
     "height": 72
    },
    "colab_type": "code",
    "executionInfo": {
     "elapsed": 259678,
     "status": "ok",
     "timestamp": 1550763914081,
     "user": {
      "displayName": "Arno Claes",
      "photoUrl": "",
      "userId": "18358942717775719175"
     },
     "user_tz": -60
    },
    "id": "GU0y2S12d-5K",
    "outputId": "5811f9d5-3317-4d8f-c4a7-6e81ef630d37"
   },
   "outputs": [],
   "source": [
    "print(f\"Average bias: {avg_bias}\")\n",
    "print(f\"Weighted average bias: {weighted_avg_bias}\")\n",
    "print(f\"Z score: {z_score}\")"
   ]
  },
  {
   "cell_type": "code",
   "execution_count": null,
   "metadata": {
    "colab": {
     "base_uri": "https://localhost:8080/",
     "height": 1969
    },
    "colab_type": "code",
    "executionInfo": {
     "elapsed": 492,
     "status": "ok",
     "timestamp": 1550743172587,
     "user": {
      "displayName": "Lennert Aerts",
      "photoUrl": "",
      "userId": "08865342511418318534"
     },
     "user_tz": -60
    },
    "id": "gZTkHSP2bEtW",
    "outputId": "9165815e-b320-4b27-bca2-1938dda739bf"
   },
   "outputs": [],
   "source": [
    "df_bias_counts"
   ]
  }
 ],
 "metadata": {
  "colab": {
   "name": "BiasNew.ipynb",
   "provenance": [],
   "toc_visible": true,
   "version": "0.3.2"
  },
  "kernelspec": {
   "display_name": "Python 3",
   "language": "python",
   "name": "python3"
  },
  "language_info": {
   "codemirror_mode": {
    "name": "ipython",
    "version": 3
   },
   "file_extension": ".py",
   "mimetype": "text/x-python",
   "name": "python",
   "nbconvert_exporter": "python",
   "pygments_lexer": "ipython3",
   "version": "3.6.3"
  }
 },
 "nbformat": 4,
 "nbformat_minor": 1
}
