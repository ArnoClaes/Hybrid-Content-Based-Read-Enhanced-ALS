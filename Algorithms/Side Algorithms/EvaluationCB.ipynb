{
 "cells": [
  {
   "cell_type": "code",
   "execution_count": null,
   "metadata": {
    "colab": {},
    "colab_type": "code",
    "collapsed": true,
    "id": "B9i47qRkVnVF"
   },
   "outputs": [],
   "source": [
    "import glob\n",
    "import pandas as pd\n",
    "from google.colab import files\n",
    "from google.colab import drive\n",
    "import numpy as np\n",
    "import scipy as sc\n",
    "from tqdm import tqdm\n",
    "import matplotlib.pyplot as plt\n",
    "import re\n",
    "import random\n",
    "import sys\n",
    "import math\n",
    "import warnings\n",
    "import seaborn as sns\n",
    "warnings.filterwarnings('ignore')\n",
    "from matplotlib.lines import Line2D"
   ]
  },
  {
   "cell_type": "markdown",
   "metadata": {
    "colab_type": "text",
    "id": "clKZDfyNV86E"
   },
   "source": [
    "#Form correct data"
   ]
  },
  {
   "cell_type": "code",
   "execution_count": null,
   "metadata": {
    "colab": {
     "base_uri": "https://localhost:8080/",
     "height": 34
    },
    "colab_type": "code",
    "executionInfo": {
     "elapsed": 3005,
     "status": "ok",
     "timestamp": 1552317662521,
     "user": {
      "displayName": "Arno Claes",
      "photoUrl": "",
      "userId": "18358942717775719175"
     },
     "user_tz": -60
    },
    "id": "4P5NVq2dWA0H",
    "outputId": "d0fb432c-47c0-4726-90d1-3182dc0e704f"
   },
   "outputs": [],
   "source": [
    "drive.mount('/content/drive', force_remount=True)"
   ]
  },
  {
   "cell_type": "code",
   "execution_count": null,
   "metadata": {
    "colab": {
     "base_uri": "https://localhost:8080/",
     "height": 34
    },
    "colab_type": "code",
    "executionInfo": {
     "elapsed": 2962,
     "status": "ok",
     "timestamp": 1552037118355,
     "user": {
      "displayName": "Arno Claes",
      "photoUrl": "",
      "userId": "18358942717775719175"
     },
     "user_tz": -60
    },
    "id": "WeOGnZtCWHqL",
    "outputId": "2364b186-45a7-4c8d-acc3-8116abeb0ccf"
   },
   "outputs": [],
   "source": [
    "!ls \"/content/drive/My Drive/Knab/Data/CleanData\""
   ]
  },
  {
   "cell_type": "code",
   "execution_count": null,
   "metadata": {
    "colab": {},
    "colab_type": "code",
    "collapsed": true,
    "id": "ZGg0qzm_WLcS"
   },
   "outputs": [],
   "source": [
    "#Load in required data\n",
    "df = pd.read_csv(\"/content/drive/My Drive/Knab/Data/CleanData/clean_page_data_recom_timedelta.csv\")"
   ]
  },
  {
   "cell_type": "code",
   "execution_count": null,
   "metadata": {
    "colab": {},
    "colab_type": "code",
    "collapsed": true,
    "id": "QcWyP35D7Hjz"
   },
   "outputs": [],
   "source": [
    "df = df[['URL', 'clientid_hashed', 'ArticleYN', 'rec_1', 'rec_2', 'rec_3', 'seen_recommendations']]"
   ]
  },
  {
   "cell_type": "code",
   "execution_count": null,
   "metadata": {
    "colab": {},
    "colab_type": "code",
    "collapsed": true,
    "id": "G6yoPRAh7iYk"
   },
   "outputs": [],
   "source": [
    "#All articles \n",
    "df = df[df['ArticleYN'] == 1]"
   ]
  },
  {
   "cell_type": "code",
   "execution_count": null,
   "metadata": {
    "colab": {},
    "colab_type": "code",
    "collapsed": true,
    "id": "DBZGr5Yk7161"
   },
   "outputs": [],
   "source": [
    "upper_bound = 2"
   ]
  },
  {
   "cell_type": "code",
   "execution_count": null,
   "metadata": {
    "colab": {},
    "colab_type": "code",
    "collapsed": true,
    "id": "_-z5j8su74dF"
   },
   "outputs": [],
   "source": [
    "df_count = df['clientid_hashed'].value_counts().reset_index().rename(columns = {'index':'clientid_hashed', 'clientid_hashed':'count'})"
   ]
  },
  {
   "cell_type": "code",
   "execution_count": null,
   "metadata": {
    "colab": {},
    "colab_type": "code",
    "collapsed": true,
    "id": "NAHiy9jL7_T2"
   },
   "outputs": [],
   "source": [
    "df_list = df_count[df_count['count'] == upper_bound]['clientid_hashed'].values"
   ]
  },
  {
   "cell_type": "code",
   "execution_count": null,
   "metadata": {
    "colab": {},
    "colab_type": "code",
    "collapsed": true,
    "id": "SwPox59W8ZtS"
   },
   "outputs": [],
   "source": [
    "#True df, with recommendations\n",
    "df = df[df['clientid_hashed'].isin(df_list)]"
   ]
  },
  {
   "cell_type": "code",
   "execution_count": null,
   "metadata": {
    "colab": {},
    "colab_type": "code",
    "collapsed": true,
    "id": "BZUvb_KW_CXe"
   },
   "outputs": [],
   "source": [
    "data = np.zeros([len(df_list), 2])\n",
    "data = np.column_stack((df_list, data))"
   ]
  },
  {
   "cell_type": "code",
   "execution_count": null,
   "metadata": {
    "colab": {},
    "colab_type": "code",
    "collapsed": true,
    "id": "toeVGid6_nbv"
   },
   "outputs": [],
   "source": [
    "for i in tqdm(range(len(df_list))):\n",
    "  if df[df['clientid_hashed'] == df_list[i]]['seen_recommendations'].values[0] == 1: #First article should have seen recommendations\n",
    "    data[i,1] = df[df['clientid_hashed'] == df_list[i]]['URL'].values[0]\n",
    "    data[i,2] = df[df['clientid_hashed'] == df_list[i]]['URL'].values[1] "
   ]
  },
  {
   "cell_type": "code",
   "execution_count": null,
   "metadata": {
    "colab": {},
    "colab_type": "code",
    "collapsed": true,
    "id": "YSKn6Nq7ABbX"
   },
   "outputs": [],
   "source": [
    "df_eval_in = pd.DataFrame({'clientid_hashed':data[:,0],'URL1':data[:,1],'URL2':data[:,2]})"
   ]
  },
  {
   "cell_type": "code",
   "execution_count": null,
   "metadata": {
    "colab": {},
    "colab_type": "code",
    "collapsed": true,
    "id": "8VM7lxAakW0k"
   },
   "outputs": [],
   "source": [
    "df_eval_in = df_eval_in[df_eval_in['URL1'] != df_eval_in['URL2']]"
   ]
  },
  {
   "cell_type": "code",
   "execution_count": null,
   "metadata": {
    "colab": {},
    "colab_type": "code",
    "collapsed": true,
    "id": "1qi-fBUAEWhq"
   },
   "outputs": [],
   "source": [
    "df_eval_in.to_csv(\"/content/drive/My Drive/Knab/Data/CleanData/df_CB_eval.csv\", index = False)"
   ]
  },
  {
   "cell_type": "markdown",
   "metadata": {
    "colab_type": "text",
    "id": "HauzLYdCsIGV"
   },
   "source": [
    "#Load in data"
   ]
  },
  {
   "cell_type": "code",
   "execution_count": null,
   "metadata": {
    "colab": {},
    "colab_type": "code",
    "collapsed": true,
    "id": "hppA2pP_sLHG"
   },
   "outputs": [],
   "source": [
    "df_input = pd.read_csv(\"/content/drive/My Drive/Knab/Data/CleanData/df_CB_eval.csv\")\n",
    "Sim_matrix_files = np.load(\"/content/drive/My Drive/Knab/Data/CleanData/CB_pearson.npz\")\n",
    "Sim_matrix = Sim_matrix_files['arr_0']\n",
    "np.fill_diagonal(Sim_matrix,0) #Remove diagonals\n",
    "df_url = pd.read_csv(\"/content/drive/My Drive/Knab/Data/CleanData/url_CB.csv\")"
   ]
  },
  {
   "cell_type": "code",
   "execution_count": null,
   "metadata": {
    "colab": {},
    "colab_type": "code",
    "collapsed": true,
    "id": "vRN-fBha7T66"
   },
   "outputs": [],
   "source": [
    "df_pop = pd.read_csv('/content/drive/My Drive/Knab/Data/CleanData/Popularity_score.csv')"
   ]
  },
  {
   "cell_type": "code",
   "execution_count": null,
   "metadata": {
    "colab": {},
    "colab_type": "code",
    "collapsed": true,
    "id": "F0CHGLvrXXL1"
   },
   "outputs": [],
   "source": [
    "df_url = df_url.drop(['Unnamed: 0'], axis=1)"
   ]
  },
  {
   "cell_type": "markdown",
   "metadata": {
    "colab_type": "text",
    "id": "6qUTUqK57SQQ"
   },
   "source": [
    "##Popularity\n"
   ]
  },
  {
   "cell_type": "code",
   "execution_count": null,
   "metadata": {
    "colab": {},
    "colab_type": "code",
    "collapsed": true,
    "id": "m9nedHdy7c01"
   },
   "outputs": [],
   "source": [
    "pop_index = np.zeros([len(df_pop),2])"
   ]
  },
  {
   "cell_type": "code",
   "execution_count": null,
   "metadata": {
    "colab": {},
    "colab_type": "code",
    "collapsed": true,
    "id": "0dxWIoWB7e32"
   },
   "outputs": [],
   "source": [
    "for i in range(len(df_pop)):\n",
    "    pop_index[i,0] = int(df_url[df_url['0'] == df_pop.iloc[i].values[1]].index[0])\n",
    "    pop_index[i,1] = df_pop.iloc[i].values[3]"
   ]
  },
  {
   "cell_type": "code",
   "execution_count": null,
   "metadata": {
    "colab": {},
    "colab_type": "code",
    "collapsed": true,
    "id": "-56Wg2es-_9F"
   },
   "outputs": [],
   "source": [
    "pop_index = pop_index[pop_index[:,0].argsort()]"
   ]
  },
  {
   "cell_type": "code",
   "execution_count": null,
   "metadata": {
    "colab": {},
    "colab_type": "code",
    "collapsed": true,
    "id": "vLnCIz5z-ARM"
   },
   "outputs": [],
   "source": [
    "weight_list = np.transpose(np.vstack((np.arange(0,len(df_url)), np.ones([len(df_url)]))))"
   ]
  },
  {
   "cell_type": "code",
   "execution_count": null,
   "metadata": {
    "colab": {},
    "colab_type": "code",
    "collapsed": true,
    "id": "D10NM0Gc-7D0"
   },
   "outputs": [],
   "source": [
    "def weight_matrix(weight):\n",
    "  for i in range(len(pop_index)):\n",
    "    index = int(pop_index[i,0])\n",
    "    weight_list[index, 1] = 1 + weight*pop_index[i,1]\n",
    "  weight_matrix = np.tile(weight_list[:,1], (len(weight_list),1))\n",
    "  return weight_matrix"
   ]
  },
  {
   "cell_type": "markdown",
   "metadata": {
    "colab_type": "text",
    "id": "Tert8mx1Vp3Y"
   },
   "source": [
    "# Accuracy @ K for 2-click users"
   ]
  },
  {
   "cell_type": "code",
   "execution_count": null,
   "metadata": {
    "colab": {},
    "colab_type": "code",
    "collapsed": true,
    "id": "z6nGFuBDzBtr"
   },
   "outputs": [],
   "source": [
    "#Replace urls by their indices\n",
    "url_index = np.zeros([len(df_input),2])\n",
    "for i in tqdm(range(len(df_input))):\n",
    "    url_index[i,0] = df_url[df_url['0'] == df_input.iloc[i].values[0]].index[0]\n",
    "    url_index[i,1] = df_url[df_url['0'] == df_input.iloc[i].values[1]].index[0]\n",
    "\n",
    "url_index_total = np.vstack((url_index, np.flip(url_index, axis=1)))"
   ]
  },
  {
   "cell_type": "code",
   "execution_count": null,
   "metadata": {
    "colab": {},
    "colab_type": "code",
    "collapsed": true,
    "id": "Mv0agl5QliPF"
   },
   "outputs": [],
   "source": [
    "def accuracy_at_K(weight):\n",
    "  \n",
    "  df_sim = pd.DataFrame(np.transpose(Sim_matrix))\n",
    "  df_sm = pd.DataFrame(df_sim.values*weight_matrix(weight))\n",
    "  \n",
    "  k_largest = np.zeros([len(df_sm),len(df_sm)])\n",
    "  k_largest_index = np.zeros([len(df_sm),len(df_sm)])\n",
    "  \n",
    "  #Sort by largesst similarity\n",
    "  for i in range(len(df_sm)):\n",
    "    k_largest[i] = df_sm.nlargest(len(df_sm), i)[i]\n",
    "    k_largest_index[i] = df_sm.nlargest(len(df_sm), i)[i].index\n",
    "    \n",
    "  k_list = np.arange(1,11)\n",
    "  k_score = np.zeros(len(k_list))\n",
    "  for j in range(len(k_list)):\n",
    "    k = k_list[j]\n",
    "    counter = 0\n",
    "    for i in range(len(url_index_total)):\n",
    "        index_article = int(url_index_total[i,0])\n",
    "        if int(url_index_total[i,1]) in (k_largest_index[index_article,0:k]):\n",
    "            counter += 1\n",
    "\n",
    "    k_score[j] = counter/len(url_index_total)\n",
    "\n",
    "  return k_score    "
   ]
  },
  {
   "cell_type": "markdown",
   "metadata": {
    "colab_type": "text",
    "id": "8Lf_DwyWlpp2"
   },
   "source": [
    "##Plotting 2-click"
   ]
  },
  {
   "cell_type": "code",
   "execution_count": null,
   "metadata": {
    "colab": {},
    "colab_type": "code",
    "collapsed": true,
    "id": "EdVLjwUv00zh"
   },
   "outputs": [],
   "source": [
    "k_score_0 = accuracy_at_K(0)\n",
    "k_score_1 = accuracy_at_K(0.1)\n",
    "k_score_2 = accuracy_at_K(0.2)\n",
    "k_score_3 = accuracy_at_K(0.3)\n",
    "k_score_4 = accuracy_at_K(0.4)\n",
    "k_score_5 = accuracy_at_K(0.5)\n",
    "k_score_10 = accuracy_at_K(1)\n",
    "k_score_20 = accuracy_at_K(2)\n",
    "k_score_30 = accuracy_at_K(3)\n",
    "k_score_40 = accuracy_at_K(4)\n",
    "k_score_50 = accuracy_at_K(5)"
   ]
  },
  {
   "cell_type": "code",
   "execution_count": null,
   "metadata": {
    "colab": {},
    "colab_type": "code",
    "collapsed": true,
    "id": "gt0O9RVNP4NN"
   },
   "outputs": [],
   "source": [
    "k_score_0 = accuracy_at_K(0)\n",
    "k_score_100 = accuracy_at_K(10000)"
   ]
  },
  {
   "cell_type": "code",
   "execution_count": null,
   "metadata": {
    "colab": {},
    "colab_type": "code",
    "collapsed": true,
    "id": "hBpev2diNL_v"
   },
   "outputs": [],
   "source": [
    "df1=pd.DataFrame({'x': np.arange(1,11), 'Wp = 0': k_score_0, 'Wp = 0.1': k_score_1, 'Wp = 0.2': k_score_2, 'Wp = 0.3':k_score_3, 'Wp = 0.4':k_score_4, 'Wp = 0.5':k_score_5, 'Wp = 1': k_score_10, 'Wp = 2': k_score_20, 'Wp = 3':k_score_30, 'Wp = 4':k_score_40, 'Wp = 5':k_score_50})\n",
    "df2=pd.DataFrame({'x': np.arange(1,11), 'Wp = 0': k_score_0, 'Wp = 100': k_score_100})"
   ]
  },
  {
   "cell_type": "code",
   "execution_count": null,
   "metadata": {
    "colab": {},
    "colab_type": "code",
    "collapsed": true,
    "id": "KOU3AR6V09m_"
   },
   "outputs": [],
   "source": [
    "sns.set_style(\"white\")\n",
    "\n",
    "plt.plot( 'x', 'Wp = 0', data=df1, marker='', color='dimgrey', linewidth=2)\n",
    "plt.plot( 'x', 'Wp = 0.1',data=df1, marker='', color='skyblue', linewidth=2)\n",
    "plt.plot( 'x', 'Wp = 0.2', data=df1, marker='', color='olive', linewidth=2)\n",
    "plt.plot( 'x', 'Wp = 0.3', data=df1, marker='', color='sienna', linewidth=2)\n",
    "plt.plot( 'x', 'Wp = 0.4', data=df1, marker='', color='maroon', linewidth=2)\n",
    "plt.plot( 'x', 'Wp = 0.5', data=df1, marker='', color='indigo', linewidth=2)\n",
    "plt.plot( 'x', 'Wp = 1',data=df1, marker='', color='coral', linewidth=2)\n",
    "plt.plot( 'x', 'Wp = 2', data=df1, marker='', color='darkolivegreen', linewidth=2)\n",
    "plt.plot( 'x', 'Wp = 3', data=df1, marker='', color='black', linewidth=2)\n",
    "plt.plot( 'x', 'Wp = 4', data=df1, marker='', color='navy', linewidth=2)\n",
    "plt.plot( 'x', 'Wp = 5', data=df1, marker='', color='goldenrod', linewidth=2)\n",
    "#plt.ylim(5000,8000)\n",
    "plt.tick_params(labelsize = 18)\n",
    "plt.legend(loc='lower right', prop={'size': 20})"
   ]
  },
  {
   "cell_type": "code",
   "execution_count": null,
   "metadata": {
    "colab": {},
    "colab_type": "code",
    "collapsed": true,
    "id": "QBbL1aoLQCN4"
   },
   "outputs": [],
   "source": [
    "sns.set_style(\"white\")\n",
    "\n",
    "plt.plot( 'x', 'Wp = 0', data=df2, marker='', color='dimgrey', linewidth=2)\n",
    "plt.plot( 'x', 'Wp = 100',data=df2, marker='', color='skyblue', linewidth=2)\n",
    "plt.tick_params(labelsize = 18)\n",
    "plt.legend(loc='lower right', prop={'size': 20})"
   ]
  },
  {
   "cell_type": "code",
   "execution_count": null,
   "metadata": {
    "colab": {},
    "colab_type": "code",
    "collapsed": true,
    "id": "BBNnRTmlQpsC"
   },
   "outputs": [],
   "source": [
    "sns.set_style(\"white\")\n",
    "\n",
    "plt.plot( 'x', 'Wp = 0.2', data=df1, marker='', color='skyblue', linewidth=2)\n",
    "plt.tick_params(labelsize = 18)\n",
    "plt.legend(loc='lower right', prop={'size': 20})"
   ]
  },
  {
   "cell_type": "markdown",
   "metadata": {
    "colab_type": "text",
    "id": "UsKmakUblvdo"
   },
   "source": [
    "#"
   ]
  },
  {
   "cell_type": "markdown",
   "metadata": {
    "colab_type": "text",
    "id": "OCJLdUnhl0CB"
   },
   "source": [
    "#Accuracy @ K for N-click users"
   ]
  },
  {
   "cell_type": "code",
   "execution_count": null,
   "metadata": {
    "colab": {},
    "colab_type": "code",
    "collapsed": true,
    "id": "kTbiJBNxl_Zp"
   },
   "outputs": [],
   "source": [
    "df = pd.read_csv(\"/content/drive/My Drive/Knab/Data/CleanData/clean_page_data_recom_timedelta.csv\")\n",
    "df = df[['URL', 'clientid_hashed', 'ArticleYN', 'rec_1', 'rec_2', 'rec_3', 'seen_recommendations']]\n",
    "df = df[df['ArticleYN'] == 1]\n",
    "df_count = df['clientid_hashed'].value_counts().reset_index().rename(columns = {'index':'clientid_hashed', 'clientid_hashed':'count'})"
   ]
  },
  {
   "cell_type": "markdown",
   "metadata": {
    "colab_type": "text",
    "id": "4yx5MQlqBDZZ"
   },
   "source": [
    "## Preparing data for N"
   ]
  },
  {
   "cell_type": "code",
   "execution_count": null,
   "metadata": {
    "colab": {
     "base_uri": "https://localhost:8080/",
     "height": 34
    },
    "colab_type": "code",
    "executionInfo": {
     "elapsed": 17510,
     "status": "ok",
     "timestamp": 1551976707622,
     "user": {
      "displayName": "Arno Claes",
      "photoUrl": "",
      "userId": "18358942717775719175"
     },
     "user_tz": -60
    },
    "id": "0zPgx0y_AXfE",
    "outputId": "1af5d172-1497-4da1-8c12-a60080f16ed6"
   },
   "outputs": [],
   "source": [
    "df = pd.read_csv(\"/content/drive/My Drive/Knab/Data/CleanData/clean_page_data_recom_timedelta.csv\")\n",
    "df = df[['URL', 'clientid_hashed', 'ArticleYN', 'rec_1', 'rec_2', 'rec_3', 'seen_recommendations']]\n",
    "df = df[df['ArticleYN'] == 1]\n",
    "df_count = df['clientid_hashed'].value_counts().reset_index().rename(columns = {'index':'clientid_hashed', 'clientid_hashed':'count'})\n",
    "\n",
    "N = 2\n",
    "\n",
    "df_list = df_count[df_count['count'] == N]['clientid_hashed'].values\n",
    "#True df, with recommendations\n",
    "df = df[df['clientid_hashed'].isin(df_list)]\n",
    "\n",
    "data = np.zeros([len(df_list), N])\n",
    "data = np.column_stack((df_list, data))\n",
    "\n",
    "for i in tqdm(range(len(df_list))):\n",
    "  for j in range(N):\n",
    "    data[i,j+1] = df[df['clientid_hashed'] == df_list[i]]['URL'].values[j]     \n",
    "\n",
    "df_input_2 = pd.DataFrame(data)\n",
    "\n",
    "df_input_2.to_csv(\"/content/drive/My Drive/Knab/Data/CleanData/Evaluation_CB/df_input_2.csv\", index = False)"
   ]
  },
  {
   "cell_type": "code",
   "execution_count": null,
   "metadata": {
    "colab": {
     "base_uri": "https://localhost:8080/"
    },
    "colab_type": "code",
    "executionInfo": {
     "elapsed": 2922,
     "status": "ok",
     "timestamp": 1551976709929,
     "user": {
      "displayName": "Arno Claes",
      "photoUrl": "",
      "userId": "18358942717775719175"
     },
     "user_tz": -60
    },
    "id": "-nMUIlGzAXna",
    "outputId": "a503bc9d-efb6-4eb0-ff00-f47aa94d095a"
   },
   "outputs": [],
   "source": [
    "df = pd.read_csv(\"/content/drive/My Drive/Knab/Data/CleanData/clean_page_data_recom_timedelta.csv\")\n",
    "df = df[['URL', 'clientid_hashed', 'ArticleYN', 'rec_1', 'rec_2', 'rec_3', 'seen_recommendations']]\n",
    "df = df[df['ArticleYN'] == 1]\n",
    "df_count = df['clientid_hashed'].value_counts().reset_index().rename(columns = {'index':'clientid_hashed', 'clientid_hashed':'count'})\n",
    "\n",
    "N = 3\n",
    "\n",
    "df_list = df_count[df_count['count'] == N]['clientid_hashed'].values\n",
    "#True df, with recommendations\n",
    "df = df[df['clientid_hashed'].isin(df_list)]\n",
    "\n",
    "data = np.zeros([len(df_list), N])\n",
    "data = np.column_stack((df_list, data))\n",
    "\n",
    "for i in tqdm(range(len(df_list))):\n",
    "  for j in range(N):\n",
    "    data[i,j+1] = df[df['clientid_hashed'] == df_list[i]]['URL'].values[j]     \n",
    "\n",
    "df_input_3 = pd.DataFrame(data)\n",
    "\n",
    "df_input_3.to_csv(\"/content/drive/My Drive/Knab/Data/CleanData/Evaluation_CB/df_input_3.csv\", index = False)"
   ]
  },
  {
   "cell_type": "code",
   "execution_count": null,
   "metadata": {
    "colab": {
     "base_uri": "https://localhost:8080/",
     "height": 34
    },
    "colab_type": "code",
    "executionInfo": {
     "elapsed": 576,
     "status": "ok",
     "timestamp": 1551976709931,
     "user": {
      "displayName": "Arno Claes",
      "photoUrl": "",
      "userId": "18358942717775719175"
     },
     "user_tz": -60
    },
    "id": "EauquFv-AXxa",
    "outputId": "420d50b6-b610-41c4-8bb0-827437334f28"
   },
   "outputs": [],
   "source": [
    "df = pd.read_csv(\"/content/drive/My Drive/Knab/Data/CleanData/clean_page_data_recom_timedelta.csv\")\n",
    "df = df[['URL', 'clientid_hashed', 'ArticleYN', 'rec_1', 'rec_2', 'rec_3', 'seen_recommendations']]\n",
    "df = df[df['ArticleYN'] == 1]\n",
    "df_count = df['clientid_hashed'].value_counts().reset_index().rename(columns = {'index':'clientid_hashed', 'clientid_hashed':'count'})\n",
    "\n",
    "N = 4\n",
    "\n",
    "df_list = df_count[df_count['count'] == N]['clientid_hashed'].values\n",
    "#True df, with recommendations\n",
    "df = df[df['clientid_hashed'].isin(df_list)]\n",
    "\n",
    "data = np.zeros([len(df_list), N])\n",
    "data = np.column_stack((df_list, data))\n",
    "\n",
    "for i in tqdm(range(len(df_list))):\n",
    "  for j in range(N):\n",
    "    data[i,j+1] = df[df['clientid_hashed'] == df_list[i]]['URL'].values[j]     \n",
    "\n",
    "df_input_4 = pd.DataFrame(data)\n",
    "\n",
    "df_input_4.to_csv(\"/content/drive/My Drive/Knab/Data/CleanData/Evaluation_CB/df_input_4.csv\", index = False)"
   ]
  },
  {
   "cell_type": "code",
   "execution_count": null,
   "metadata": {
    "colab": {
     "base_uri": "https://localhost:8080/",
     "height": 34
    },
    "colab_type": "code",
    "executionInfo": {
     "elapsed": 299081,
     "status": "ok",
     "timestamp": 1551977048703,
     "user": {
      "displayName": "Arno Claes",
      "photoUrl": "",
      "userId": "18358942717775719175"
     },
     "user_tz": -60
    },
    "id": "wPVjzw6GAX6B",
    "outputId": "85b2da9e-1b7e-429a-bfaa-a3fa1d3afc79"
   },
   "outputs": [],
   "source": [
    "df = pd.read_csv(\"/content/drive/My Drive/Knab/Data/CleanData/clean_page_data_recom_timedelta.csv\")\n",
    "df = df[['URL', 'clientid_hashed', 'ArticleYN', 'rec_1', 'rec_2', 'rec_3', 'seen_recommendations']]\n",
    "df = df[df['ArticleYN'] == 1]\n",
    "df_count = df['clientid_hashed'].value_counts().reset_index().rename(columns = {'index':'clientid_hashed', 'clientid_hashed':'count'})\n",
    "\n",
    "N = 5\n",
    "\n",
    "df_list = df_count[df_count['count'] == N]['clientid_hashed'].values\n",
    "#True df, with recommendations\n",
    "df = df[df['clientid_hashed'].isin(df_list)]\n",
    "\n",
    "data = np.zeros([len(df_list), N])\n",
    "data = np.column_stack((df_list, data))\n",
    "\n",
    "for i in tqdm(range(len(df_list))):\n",
    "  for j in range(N):\n",
    "    data[i,j+1] = df[df['clientid_hashed'] == df_list[i]]['URL'].values[j]     \n",
    "\n",
    "df_input_5 = pd.DataFrame(data)\n",
    "\n",
    "df_input_5.to_csv(\"/content/drive/My Drive/Knab/Data/CleanData/Evaluation_CB/df_input_5.csv\", index = False)"
   ]
  },
  {
   "cell_type": "code",
   "execution_count": null,
   "metadata": {
    "colab": {
     "base_uri": "https://localhost:8080/",
     "height": 34
    },
    "colab_type": "code",
    "executionInfo": {
     "elapsed": 373652,
     "status": "ok",
     "timestamp": 1551977199875,
     "user": {
      "displayName": "Arno Claes",
      "photoUrl": "",
      "userId": "18358942717775719175"
     },
     "user_tz": -60
    },
    "id": "SbM4dw8uAqWU",
    "outputId": "6811593d-060a-4a06-e910-dab675744749"
   },
   "outputs": [],
   "source": [
    "df = pd.read_csv(\"/content/drive/My Drive/Knab/Data/CleanData/clean_page_data_recom_timedelta.csv\")\n",
    "df = df[['URL', 'clientid_hashed', 'ArticleYN', 'rec_1', 'rec_2', 'rec_3', 'seen_recommendations']]\n",
    "df = df[df['ArticleYN'] == 1]\n",
    "df_count = df['clientid_hashed'].value_counts().reset_index().rename(columns = {'index':'clientid_hashed', 'clientid_hashed':'count'})\n",
    "\n",
    "N = 6\n",
    "\n",
    "df_list = df_count[df_count['count'] == N]['clientid_hashed'].values\n",
    "#True df, with recommendations\n",
    "df = df[df['clientid_hashed'].isin(df_list)]\n",
    "\n",
    "data = np.zeros([len(df_list), N])\n",
    "data = np.column_stack((df_list, data))\n",
    "\n",
    "for i in tqdm(range(len(df_list))):\n",
    "  for j in range(N):y\n",
    "    \n",
    "    data[i,j+1] = df[df['clientid_hashed'] == df_list[i]]['URL'].values[j]     \n",
    "\n",
    "df_input_6 = pd.DataFrame(data)\n",
    "\n",
    "df_input_6.to_csv(\"/content/drive/My Drive/Knab/Data/CleanData/Evaluation_CB/df_input_6.csv\", index = False)"
   ]
  },
  {
   "cell_type": "markdown",
   "metadata": {
    "colab_type": "text",
    "id": "HQQB7xjgBIPT"
   },
   "source": [
    "## Accuracy function"
   ]
  },
  {
   "cell_type": "code",
   "execution_count": null,
   "metadata": {
    "colab": {},
    "colab_type": "code",
    "collapsed": true,
    "id": "f9BO-OLLB_-X"
   },
   "outputs": [],
   "source": [
    "#Load in data\n",
    "df_input_2 = pd.read_csv(\"/content/drive/My Drive/Knab/Data/CleanData/Evaluation_CB/df_input_2.csv\")\n",
    "df_input_3 = pd.read_csv(\"/content/drive/My Drive/Knab/Data/CleanData/Evaluation_CB/df_input_3.csv\")\n",
    "df_input_4 = pd.read_csv(\"/content/drive/My Drive/Knab/Data/CleanData/Evaluation_CB/df_input_4.csv\")\n",
    "df_input_5 = pd.read_csv(\"/content/drive/My Drive/Knab/Data/CleanData/Evaluation_CB/df_input_5.csv\")\n",
    "df_input_6 = pd.read_csv(\"/content/drive/My Drive/Knab/Data/CleanData/Evaluation_CB/df_input_6.csv\")"
   ]
  },
  {
   "cell_type": "code",
   "execution_count": null,
   "metadata": {
    "colab": {},
    "colab_type": "code",
    "collapsed": true,
    "id": "ip6EvfhcyGgx"
   },
   "outputs": [],
   "source": [
    "def accuracy_k_n(N, df_input, sim_matrix, weight):\n",
    "  \n",
    "  df_sm = pd.DataFrame(sim_matrix*weight_matrix(weight)).T\n",
    "\n",
    "\n",
    "  url_index = np.zeros([len(df_input),N])\n",
    "  for i in tqdm(range(len(df_input))):\n",
    "    for j in range(N):\n",
    "      url_index[i,j] = df_url[df_url['0'] == df_input.iloc[i].values[j+1]].index[0] \n",
    "  \n",
    "  #Remove duplicates from columns\n",
    "  url_index = pd.DataFrame(url_index)\n",
    "  for i in range(N-1):\n",
    "    url_index = url_index[url_index[i] != url_index[N-1]]\n",
    "  url_index = url_index.values\n",
    "  \n",
    "  #Scramble\n",
    "  url_index_total = url_index\n",
    "  for i in range(N-1):\n",
    "    url_index= np.column_stack((url_index[:,-1],url_index[:,0:N-1]))\n",
    "    url_index_total = np.row_stack((url_index_total,url_index))\n",
    "  \n",
    "  train = url_index_total[:,0:N-1]\n",
    "  k_list = np.arange(1,11)\n",
    "  k_score = np.zeros(len(k_list))\n",
    "  \n",
    "  \n",
    "  for t in range(len(k_list)):\n",
    "    k = k_list[t]\n",
    "    counter = 0\n",
    "    for i in tqdm(range(len(train))):\n",
    "      total_sim = 0\n",
    "      for j in range(N-1):\n",
    "        index = train[i,j]\n",
    "        total_sim += df_sm[index]\n",
    "      mean_sim = total_sim/(N-1)\n",
    "      mean_sim = pd.DataFrame(mean_sim)\n",
    "      index_most_sim = mean_sim.nlargest(k, mean_sim.columns[0]).index  \n",
    "      \n",
    "      if url_index_total[i,N-1] in index_most_sim:\n",
    "          counter += 1\n",
    "\n",
    "    k_score[t] = counter/len(url_index_total)\n",
    "\n",
    "  return k_score"
   ]
  },
  {
   "cell_type": "code",
   "execution_count": null,
   "metadata": {
    "colab": {},
    "colab_type": "code",
    "collapsed": true,
    "id": "ZdWEbixWv57C"
   },
   "outputs": [],
   "source": [
    "popweight = 1\n",
    "acc_2_1 = accuracy_k_n(N=2, df_input=df_input_2, sim_matrix=Sim_matrix, weight=popweight)\n",
    "acc_3_1 = accuracy_k_n(N=3, df_input=df_input_3, sim_matrix=Sim_matrix, weight=popweight)\n",
    "acc_4_1 = accuracy_k_n(N=4, df_input=df_input_4, sim_matrix=Sim_matrix, weight=popweight)\n",
    "acc_5_1 = accuracy_k_n(N=5, df_input=df_input_5, sim_matrix=Sim_matrix, weight=popweight)\n",
    "acc_6_1 = accuracy_k_n(N=6, df_input=df_input_6, sim_matrix=Sim_matrix, weight=popweight)\n",
    "\n",
    "acc_1 = np.row_stack((acc_6_1, acc_5_1, acc_4_1, acc_3_1, acc_2_1))\n",
    "np.savez('/content/drive/My Drive/Knab/Data/CleanData/Evaluation_CB/accN_w1.npz', acc_1)"
   ]
  },
  {
   "cell_type": "code",
   "execution_count": null,
   "metadata": {
    "colab": {
     "base_uri": "https://localhost:8080/",
     "height": 952
    },
    "colab_type": "code",
    "executionInfo": {
     "elapsed": 11069677,
     "status": "ok",
     "timestamp": 1552014769635,
     "user": {
      "displayName": "Arno Claes",
      "photoUrl": "",
      "userId": "18358942717775719175"
     },
     "user_tz": -60
    },
    "id": "UCZiDchbLdw6",
    "outputId": "3ddf3018-2852-40a7-8ea1-3ac1618a1855"
   },
   "outputs": [],
   "source": [
    "popweight = 0.5\n",
    "acc_2_05 = accuracy_k_n(N=2, df_input=df_input_2, sim_matrix=Sim_matrix, weight=popweight)\n",
    "acc_3_05 = accuracy_k_n(N=3, df_input=df_input_3, sim_matrix=Sim_matrix, weight=popweight)\n",
    "acc_4_05 = accuracy_k_n(N=4, df_input=df_input_4, sim_matrix=Sim_matrix, weight=popweight)\n",
    "acc_5_05 = accuracy_k_n(N=5, df_input=df_input_5, sim_matrix=Sim_matrix, weight=popweight)\n",
    "acc_6_05 = accuracy_k_n(N=6, df_input=df_input_6, sim_matrix=Sim_matrix, weight=popweight)\n",
    "\n",
    "acc_05 = np.row_stack((acc_6_05, acc_5_05, acc_4_05, acc_3_05, acc_2_05))\n",
    "np.savez('/content/drive/My Drive/Knab/Data/CleanData/Evaluation_CB/accN_w_05.npz', acc_05)"
   ]
  },
  {
   "cell_type": "code",
   "execution_count": null,
   "metadata": {
    "colab": {
     "base_uri": "https://localhost:8080/",
     "height": 952
    },
    "colab_type": "code",
    "executionInfo": {
     "elapsed": 11312977,
     "status": "ok",
     "timestamp": 1552048496352,
     "user": {
      "displayName": "Arno Claes",
      "photoUrl": "",
      "userId": "18358942717775719175"
     },
     "user_tz": -60
    },
    "id": "nOXk6hqXLd4u",
    "outputId": "f372ed94-38c8-4ed0-d2fa-c63f01e3330a"
   },
   "outputs": [],
   "source": [
    "popweight = 2.5\n",
    "acc_2_25 = accuracy_k_n(N=2, df_input=df_input_2, sim_matrix=Sim_matrix, weight=popweight)\n",
    "acc_3_25 = accuracy_k_n(N=3, df_input=df_input_3, sim_matrix=Sim_matrix, weight=popweight)\n",
    "acc_4_25 = accuracy_k_n(N=4, df_input=df_input_4, sim_matrix=Sim_matrix, weight=popweight)\n",
    "acc_5_25 = accuracy_k_n(N=5, df_input=df_input_5, sim_matrix=Sim_matrix, weight=popweight)\n",
    "acc_6_25 = accuracy_k_n(N=6, df_input=df_input_6, sim_matrix=Sim_matrix, weight=popweight)\n",
    "\n",
    "acc_25 = np.row_stack((acc_6_25, acc_5_25, acc_4_25, acc_3_25, acc_2_25))\n",
    "np.savez('/content/drive/My Drive/Knab/Data/CleanData/Evaluation_CB/accN_w_25.npz', acc_25)"
   ]
  },
  {
   "cell_type": "markdown",
   "metadata": {
    "colab_type": "text",
    "id": "2kPyoiDTWEW4"
   },
   "source": [
    "##Plotting"
   ]
  },
  {
   "cell_type": "code",
   "execution_count": null,
   "metadata": {
    "colab": {},
    "colab_type": "code",
    "collapsed": true,
    "id": "OooiauZhWT85"
   },
   "outputs": [],
   "source": [
    "acc_1 = np.load('/content/drive/My Drive/Knab/Data/CleanData/Evaluation_CB/accN_w1.npz')['arr_0']\n",
    "acc_05 = np.load('/content/drive/My Drive/Knab/Data/CleanData/Evaluation_CB/accN_w_05.npz')['arr_0']\n",
    "acc_25 = np.load('/content/drive/My Drive/Knab/Data/CleanData/Evaluation_CB/accN_w_25.npz')['arr_0']"
   ]
  },
  {
   "cell_type": "code",
   "execution_count": null,
   "metadata": {
    "colab": {},
    "colab_type": "code",
    "collapsed": true,
    "id": "YDxDHPO06H79"
   },
   "outputs": [],
   "source": [
    "df1 = pd.DataFrame({'x': np.arange(1,11), 'N = 6': acc_1[0],'N = 5': acc_1[1],'N = 4': acc_1[2],'N = 3': acc_1[3],'N = 2': acc_1[4] })\n",
    "df05 = pd.DataFrame({'x': np.arange(1,11), 'N = 6': acc_05[0],'N = 5': acc_05[1],'N = 4': acc_05[2],'N = 3': acc_05[3],'N = 2': acc_05[4] })\n",
    "df25 = pd.DataFrame({'x': np.arange(1,11), 'N = 6': acc_25[0],'N = 5': acc_25[1],'N = 4': acc_25[2],'N = 3': acc_25[3],'N = 2': acc_25[4] })\n",
    "\n",
    "df = pd.DataFrame({'x': np.arange(1,11), 'N = 6 W = 2.5': acc_25[0],'N = 5 W = 2.5': acc_25[1],'N = 4 W = 2.5': acc_25[2],'N = 3 W = 2.5': acc_25[3],'N = 2 W = 2.5': acc_25[4],\\\n",
    "                   'N = 6 W = 0.5': acc_05[0],'N = 5 W = 0.5': acc_05[1],'N = 4 W = 0.5': acc_05[2],'N = 3 W = 0.5': acc_05[3],'N = 2 W = 0.5': acc_05[4],\\\n",
    "                   'N = 6 W = 1': acc_1[0],'N = 5 W = 1': acc_1[1],'N = 4 W = 1': acc_1[2],'N = 3 W = 1': acc_1[3],'N = 2 W = 1': acc_1[4] })"
   ]
  },
  {
   "cell_type": "code",
   "execution_count": null,
   "metadata": {
    "colab": {
     "base_uri": "https://localhost:8080/",
     "height": 586
    },
    "colab_type": "code",
    "executionInfo": {
     "elapsed": 1372,
     "status": "ok",
     "timestamp": 1552320730277,
     "user": {
      "displayName": "Arno Claes",
      "photoUrl": "",
      "userId": "18358942717775719175"
     },
     "user_tz": -60
    },
    "id": "PFSQqSpKWKGL",
    "outputId": "2e3341f3-cc0f-440a-8a35-28853f383c01"
   },
   "outputs": [],
   "source": [
    "sns.set_style(\"white\")\n",
    "\n",
    "fig_size = plt.rcParams['figure.figsize']\n",
    "fig_size[0] = 12\n",
    "fig_size[1] = 9\n",
    "\n",
    "plt.plot( 'x', 'N = 6 W = 0.5', data=df, linestyle='--', color='dimgrey', linewidth=2)\n",
    "plt.plot( 'x', 'N = 5 W = 0.5',data=df, linestyle='--', color='skyblue', linewidth=2)\n",
    "plt.plot( 'x', 'N = 4 W = 0.5', data=df, linestyle='--', color='olive', linewidth=2)\n",
    "plt.plot( 'x', 'N = 3 W = 0.5', data=df, linestyle='--', color='darkorange', linewidth=2)\n",
    "plt.plot( 'x', 'N = 2 W = 0.5', data=df, linestyle='--', color='maroon', linewidth=2)\n",
    "\n",
    "plt.plot( 'x', 'N = 6 W = 1', data=df, linestyle='-', color='dimgrey', linewidth=2)\n",
    "plt.plot( 'x', 'N = 5 W = 1',data=df, linestyle='-', color='skyblue', linewidth=2)\n",
    "plt.plot( 'x', 'N = 4 W = 1', data=df, linestyle='-', color='olive', linewidth=2)\n",
    "plt.plot( 'x', 'N = 3 W = 1', data=df, linestyle='-', color='darkorange', linewidth=2)\n",
    "plt.plot( 'x', 'N = 2 W = 1', data=df, linestyle='-', color='maroon', linewidth=2)\n",
    "\n",
    "plt.plot( 'x', 'N = 6 W = 2.5', data=df, linestyle='-.', color='dimgrey', linewidth=2)\n",
    "plt.plot( 'x', 'N = 5 W = 2.5',data=df, linestyle='-.', color='skyblue', linewidth=2)\n",
    "plt.plot( 'x', 'N = 4 W = 2.5', data=df, linestyle='-.', color='olive', linewidth=2)\n",
    "plt.plot( 'x', 'N = 3 W = 2.5', data=df, linestyle='-.', color='darkorange', linewidth=2)\n",
    "plt.plot( 'x', 'N = 2 W = 2.5', data=df, linestyle='-.', color='maroon', linewidth=2)\n",
    "\n",
    "\n",
    "plt.xlabel('Number of Recommendations', fontsize = 22)\n",
    "plt.ylabel('Accuracy', fontsize = 22)\n",
    "plt.grid()\n",
    "\n",
    "\n",
    "plt.tick_params(labelsize = 18)\n",
    "\n",
    "custom_lines = [Line2D([0], [0], color='dimgrey', lw=3),\n",
    "                Line2D([0], [0], color='skyblue', lw=3),\n",
    "                Line2D([0], [0], color='olive', lw=3),\n",
    "                Line2D([0], [0], color='darkorange', lw=3),\n",
    "                Line2D([0], [0], color='maroon', lw=3),\n",
    "                \n",
    "                Line2D([0], [0], linestyle = '-', color='black', lw=1.5),\n",
    "                Line2D([0], [0], linestyle = '--', color='black', lw=1.5),\n",
    "                Line2D([0], [0], linestyle = '-.', color='black', lw=1.5)]\n",
    "\n",
    "\n",
    "plt.legend(custom_lines, ['N = 6','N = 5','N = 4','N = 3','N = 2', 'W = 1', 'W = 0.5', 'W = 2.5'], prop={'size': 16})"
   ]
  },
  {
   "cell_type": "code",
   "execution_count": null,
   "metadata": {
    "colab": {
     "base_uri": "https://localhost:8080/",
     "height": 371
    },
    "colab_type": "code",
    "executionInfo": {
     "elapsed": 1196,
     "status": "ok",
     "timestamp": 1552317715713,
     "user": {
      "displayName": "Arno Claes",
      "photoUrl": "",
      "userId": "18358942717775719175"
     },
     "user_tz": -60
    },
    "id": "K01Aip5V9yAs",
    "outputId": "388eb50c-5645-428c-b565-accc6b52feb3"
   },
   "outputs": [],
   "source": [
    "plt.plot( 'x', 'N = 6', data=df1, marker='', color='dimgrey', linewidth=2)\n",
    "plt.plot( 'x', 'N = 5',data=df1, marker='', color='skyblue', linewidth=2)\n",
    "plt.plot( 'x', 'N = 4', data=df1, marker='', color='olive', linewidth=2)\n",
    "plt.plot( 'x', 'N = 3', data=df1, marker='', color='sienna', linewidth=2)\n",
    "plt.plot( 'x', 'N = 2', data=df1, marker='', color='maroon', linewidth=2)\n",
    "#plt.ylim(5000,8000)\n",
    "plt.tick_params(labelsize = 18)\n",
    "plt.legend(loc='lower right', prop={'size': 17})"
   ]
  },
  {
   "cell_type": "code",
   "execution_count": null,
   "metadata": {
    "colab": {
     "base_uri": "https://localhost:8080/",
     "height": 371
    },
    "colab_type": "code",
    "executionInfo": {
     "elapsed": 1192,
     "status": "ok",
     "timestamp": 1552049506929,
     "user": {
      "displayName": "Arno Claes",
      "photoUrl": "",
      "userId": "18358942717775719175"
     },
     "user_tz": -60
    },
    "id": "ByQV4AugW9zZ",
    "outputId": "ff616853-d585-4ccb-e5e8-9176d0da8a55"
   },
   "outputs": [],
   "source": [
    "plt.plot( 'x', 'N = 6', data=df05, marker='', color='dimgrey', linewidth=2)\n",
    "plt.plot( 'x', 'N = 5',data=df05, marker='', color='skyblue', linewidth=2)\n",
    "plt.plot( 'x', 'N = 4', data=df05, marker='', color='olive', linewidth=2)\n",
    "plt.plot( 'x', 'N = 3', data=df05, marker='', color='sienna', linewidth=2)\n",
    "plt.plot( 'x', 'N = 2', data=df05, marker='', color='maroon', linewidth=2)\n",
    "#plt.ylim(5000,8000)\n",
    "plt.tick_params(labelsize = 18)\n",
    "plt.legend(loc='lower right', prop={'size': 17})"
   ]
  },
  {
   "cell_type": "code",
   "execution_count": null,
   "metadata": {
    "colab": {
     "base_uri": "https://localhost:8080/",
     "height": 371
    },
    "colab_type": "code",
    "executionInfo": {
     "elapsed": 918,
     "status": "ok",
     "timestamp": 1552049531460,
     "user": {
      "displayName": "Arno Claes",
      "photoUrl": "",
      "userId": "18358942717775719175"
     },
     "user_tz": -60
    },
    "id": "C78cpoJuXCbw",
    "outputId": "97ca3bda-805b-418c-82f1-18ea38dae448"
   },
   "outputs": [],
   "source": [
    "plt.plot( 'x', 'N = 6', data=df25, marker='', color='dimgrey', linewidth=2)\n",
    "plt.plot( 'x', 'N = 5',data=df25, marker='', color='skyblue', linewidth=2)\n",
    "plt.plot( 'x', 'N = 4', data=df25, marker='', color='olive', linewidth=2)\n",
    "plt.plot( 'x', 'N = 3', data=df25, marker='', color='sienna', linewidth=2)\n",
    "plt.plot( 'x', 'N = 2', data=df25, marker='', color='maroon', linewidth=2)\n",
    "#plt.ylim(5000,8000)\n",
    "plt.tick_params(labelsize = 18)\n",
    "plt.legend(loc='lower right', prop={'size': 17})"
   ]
  },
  {
   "cell_type": "code",
   "execution_count": null,
   "metadata": {
    "colab": {
     "base_uri": "https://localhost:8080/",
     "height": 371
    },
    "colab_type": "code",
    "executionInfo": {
     "elapsed": 774,
     "status": "ok",
     "timestamp": 1552049686557,
     "user": {
      "displayName": "Arno Claes",
      "photoUrl": "",
      "userId": "18358942717775719175"
     },
     "user_tz": -60
    },
    "id": "sY03c-NCXF_d",
    "outputId": "29c20946-27f8-4c67-f8e1-c5f1a1a62629"
   },
   "outputs": [],
   "source": [
    "plt.plot( 'x', 'N = 3', data=df05, label = 'W = 0.5', marker='', color='dimgrey', linewidth=2)\n",
    "plt.plot( 'x', 'N = 3',data=df1, label = 'W = 1', marker='', color='skyblue', linewidth=2)\n",
    "plt.plot( 'x', 'N = 3', data=df25, label = 'W = 2.5', marker='', color='olive', linewidth=2)\n",
    "\n",
    "#plt.ylim(5000,8000)\n",
    "plt.tick_params(labelsize = 18)\n",
    "plt.legend(loc='lower right', prop={'size': 17})"
   ]
  }
 ],
 "metadata": {
  "colab": {
   "collapsed_sections": [
    "clKZDfyNV86E",
    "f2sRM5NRWcjp"
   ],
   "name": "EvaluationCB.ipynb",
   "provenance": [],
   "version": "0.3.2"
  },
  "kernelspec": {
   "display_name": "Python 3",
   "language": "python",
   "name": "python3"
  },
  "language_info": {
   "codemirror_mode": {
    "name": "ipython",
    "version": 3
   },
   "file_extension": ".py",
   "mimetype": "text/x-python",
   "name": "python",
   "nbconvert_exporter": "python",
   "pygments_lexer": "ipython3",
   "version": "3.6.3"
  }
 },
 "nbformat": 4,
 "nbformat_minor": 1
}
