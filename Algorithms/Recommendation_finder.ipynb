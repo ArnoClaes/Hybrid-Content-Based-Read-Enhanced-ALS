{
 "cells": [
  {
   "cell_type": "code",
   "execution_count": null,
   "metadata": {
    "colab": {},
    "colab_type": "code",
    "collapsed": true,
    "id": "ZlbzT9NVXlnX"
   },
   "outputs": [],
   "source": [
    "import pandas as pd\n",
    "from google.colab import files\n",
    "from google.colab import drive\n",
    "import datetime\n",
    "from tqdm import tnrange, tqdm_notebook, tqdm"
   ]
  },
  {
   "cell_type": "code",
   "execution_count": null,
   "metadata": {
    "colab": {},
    "colab_type": "code",
    "collapsed": true,
    "id": "GP_cfMfkmyPk"
   },
   "outputs": [],
   "source": [
    "#Progress bar pandas\n",
    "tqdm.pandas()"
   ]
  },
  {
   "cell_type": "markdown",
   "metadata": {
    "colab_type": "text",
    "id": "7H6hC2Z6YfN8"
   },
   "source": [
    "#Loading in data"
   ]
  },
  {
   "cell_type": "code",
   "execution_count": null,
   "metadata": {
    "colab": {
     "base_uri": "https://localhost:8080/",
     "height": 108
    },
    "colab_type": "code",
    "executionInfo": {
     "elapsed": 2066,
     "status": "ok",
     "timestamp": 1548262235348,
     "user": {
      "displayName": "Arno Claes",
      "photoUrl": "",
      "userId": "18358942717775719175"
     },
     "user_tz": -60
    },
    "id": "tKpvWRMlXs4_",
    "outputId": "87e21449-6375-4712-e88b-bdfdc7b5accc"
   },
   "outputs": [],
   "source": [
    "drive.mount('/content/drive')\n",
    "!ls \"/content/drive/My Drive/Knab/Data/Knab_Analytics/\""
   ]
  },
  {
   "cell_type": "code",
   "execution_count": null,
   "metadata": {
    "colab": {},
    "colab_type": "code",
    "collapsed": true,
    "id": "dxB6UV78XxQw"
   },
   "outputs": [],
   "source": [
    "df_urls = pd.read_excel(\"/content/drive/My Drive/Knab/Data/Articles/URLS.xlsx\")\n",
    "df_data = pd.read_csv(\"/content/drive/My Drive/Knab/Data/Knab_Analytics/merged_data.csv\")"
   ]
  },
  {
   "cell_type": "code",
   "execution_count": null,
   "metadata": {
    "colab": {
     "base_uri": "https://localhost:8080/",
     "height": 3620
    },
    "colab_type": "code",
    "executionInfo": {
     "elapsed": 481,
     "status": "ok",
     "timestamp": 1548262171413,
     "user": {
      "displayName": "Arno Claes",
      "photoUrl": "",
      "userId": "18358942717775719175"
     },
     "user_tz": -60
    },
    "id": "0IsAPzngndVH",
    "outputId": "54d73ecb-ef25-4e65-ff0e-99c96fb63297"
   },
   "outputs": [],
   "source": [
    "df_data"
   ]
  },
  {
   "cell_type": "markdown",
   "metadata": {
    "colab_type": "text",
    "id": "PcoSd2kSYl6o"
   },
   "source": [
    "# Find old recommendations"
   ]
  },
  {
   "cell_type": "code",
   "execution_count": null,
   "metadata": {
    "colab": {},
    "colab_type": "code",
    "collapsed": true,
    "id": "8HE96QQ8YAAF"
   },
   "outputs": [],
   "source": [
    "def find_old_recommendations(url,visit_time): #URL in string 'url' and visit_time in date_time\n",
    "  if url in df_urls['URL'].values:\n",
    "    tag = df_urls.loc[df_urls['URL'].isin([url])]['TAG'].iloc[0] #Find tag or current article\n",
    "    tag_list = df_urls.loc[df_urls['TAG'].isin([tag])] #Find the list of articles with the same tag\n",
    "    tag_list['DATE'] = pd.to_datetime(tag_list['DATE']) - pd.to_datetime(visit_time)\n",
    "\n",
    "    older_articles = tag_list[(tag_list['DATE'] < pd.Timedelta(0))] #Remove all positive time difference, we only want older articles\n",
    "    old_recommendations = older_articles.nlargest(3,'DATE')['URL'].values[:] #Find 3 most recent recommendations for the visit_time\n",
    "  else:\n",
    "    old_recommendations = 0\n",
    "\n",
    "  return old_recommendations"
   ]
  },
  {
   "cell_type": "code",
   "execution_count": null,
   "metadata": {
    "colab": {},
    "colab_type": "code",
    "collapsed": true,
    "id": "Ky0T9enknTck"
   },
   "outputs": [],
   "source": [
    "df_articles = df_data[df_data['ArticleYN'] == 1]"
   ]
  },
  {
   "cell_type": "code",
   "execution_count": null,
   "metadata": {
    "colab": {
     "base_uri": "https://localhost:8080/",
     "height": 145
    },
    "colab_type": "code",
    "id": "CKgEEPQt_5NP",
    "outputId": "ad936df4-cf27-49e1-8087-f2b0c3dc8406"
   },
   "outputs": [],
   "source": [
    "#Initialize column\n",
    "df_data['old_recommendations'] = df_data[['URL','visitstarttime']].progress_apply(lambda x: find_old_recommendations(*x), axis=1)"
   ]
  }
 ],
 "metadata": {
  "colab": {
   "collapsed_sections": [],
   "name": "Recommendation_finder",
   "provenance": [],
   "version": "0.3.2"
  },
  "kernelspec": {
   "display_name": "Python 3",
   "language": "python",
   "name": "python3"
  },
  "language_info": {
   "codemirror_mode": {
    "name": "ipython",
    "version": 3
   },
   "file_extension": ".py",
   "mimetype": "text/x-python",
   "name": "python",
   "nbconvert_exporter": "python",
   "pygments_lexer": "ipython3",
   "version": "3.6.3"
  }
 },
 "nbformat": 4,
 "nbformat_minor": 1
}
