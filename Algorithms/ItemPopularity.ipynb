{
 "cells": [
  {
   "cell_type": "code",
   "execution_count": null,
   "metadata": {
    "colab": {},
    "colab_type": "code",
    "collapsed": true,
    "id": "aqcmpOIc_hHc"
   },
   "outputs": [],
   "source": [
    "import glob\n",
    "import pandas as pd\n",
    "from google.colab import files\n",
    "from google.colab import drive\n",
    "import numpy as np\n",
    "from tqdm import tqdm\n",
    "from collections import Counter\n",
    "import matplotlib.mlab as mlab\n",
    "import matplotlib.pyplot as plt\n",
    "import datetime as dt\n",
    "import seaborn as sns\n",
    "style = plt.style.use('seaborn-deep')"
   ]
  },
  {
   "cell_type": "code",
   "execution_count": null,
   "metadata": {
    "colab": {
     "base_uri": "https://localhost:8080/",
     "height": 237
    },
    "colab_type": "code",
    "executionInfo": {
     "elapsed": 23146,
     "status": "ok",
     "timestamp": 1550224771626,
     "user": {
      "displayName": "Arno Claes",
      "photoUrl": "",
      "userId": "18358942717775719175"
     },
     "user_tz": -60
    },
    "id": "JKxZtdTb_rzj",
    "outputId": "3723758b-bed1-4da8-c4da-7055f8c24702"
   },
   "outputs": [],
   "source": [
    "drive.mount('/content/drive')\n",
    "!ls \"/content/drive/My Drive/Knab/Data/CleanData\""
   ]
  },
  {
   "cell_type": "markdown",
   "metadata": {
    "colab_type": "text",
    "id": "fOthFkbZBBjA"
   },
   "source": [
    "#Load in data"
   ]
  },
  {
   "cell_type": "code",
   "execution_count": null,
   "metadata": {
    "colab": {},
    "colab_type": "code",
    "collapsed": true,
    "id": "O3tsCcPSzTrX"
   },
   "outputs": [],
   "source": [
    "#Page data\n",
    "df_page = pd.read_csv(\"/content/drive/My Drive/Knab/Data/CleanData/clean_page_data.csv\")"
   ]
  },
  {
   "cell_type": "code",
   "execution_count": null,
   "metadata": {
    "colab": {},
    "colab_type": "code",
    "collapsed": true,
    "id": "d1nE1fovB_IX"
   },
   "outputs": [],
   "source": [
    "#Load in all urls with tags\n",
    "df_urlstext = pd.read_csv(\"/content/drive/My Drive/Knab/Data/CleanData/clean_article_data.csv\")"
   ]
  },
  {
   "cell_type": "code",
   "execution_count": null,
   "metadata": {
    "colab": {},
    "colab_type": "code",
    "collapsed": true,
    "id": "VcVzJIk4CBgt"
   },
   "outputs": [],
   "source": [
    "#Split dfs, remove the text for memory space\n",
    "df_urls = df_urlstext[['URL','TAG','TITLE','DATE','READING_TIME']]"
   ]
  },
  {
   "cell_type": "code",
   "execution_count": null,
   "metadata": {
    "colab": {
     "base_uri": "https://localhost:8080/",
     "height": 121
    },
    "colab_type": "code",
    "executionInfo": {
     "elapsed": 10392,
     "status": "ok",
     "timestamp": 1552322948230,
     "user": {
      "displayName": "Arno Claes",
      "photoUrl": "",
      "userId": "18358942717775719175"
     },
     "user_tz": -60
    },
    "id": "_AMZDGm32Kf2",
    "outputId": "12e5999a-d521-4ff3-ca3f-f0fa44bfc036"
   },
   "outputs": [],
   "source": [
    "#Change the datetimes (They reset when loading in csv)\n",
    "df_urls['DATE'] = pd.to_datetime(df_urls['DATE'])\n"
   ]
  },
  {
   "cell_type": "code",
   "execution_count": null,
   "metadata": {
    "colab": {},
    "colab_type": "code",
    "collapsed": true,
    "id": "lnk7ZfyHCMnd"
   },
   "outputs": [],
   "source": [
    "#Sort chronologically\n",
    "df_page = df_page.sort_values(by=['visitstarttime'])"
   ]
  },
  {
   "cell_type": "markdown",
   "metadata": {
    "colab_type": "text",
    "id": "w7I0bd5ACbYx"
   },
   "source": [
    "#Calculate the popularity of articles"
   ]
  },
  {
   "cell_type": "code",
   "execution_count": null,
   "metadata": {
    "colab": {},
    "colab_type": "code",
    "collapsed": true,
    "id": "vtj0ifQTCmdx"
   },
   "outputs": [],
   "source": [
    "#Put 0/1 encoding of page is also an article\n",
    "df_page = df_page.assign(ArticleYN=df_page.URL.isin(df_urls.URL).astype(int))"
   ]
  },
  {
   "cell_type": "code",
   "execution_count": null,
   "metadata": {
    "colab": {
     "base_uri": "https://localhost:8080/",
     "height": 121
    },
    "colab_type": "code",
    "executionInfo": {
     "elapsed": 4585,
     "status": "ok",
     "timestamp": 1552322953168,
     "user": {
      "displayName": "Arno Claes",
      "photoUrl": "",
      "userId": "18358942717775719175"
     },
     "user_tz": -60
    },
    "id": "tBq9YusKDXJL",
    "outputId": "e49ae18d-27a4-463c-acca-f5c72777c50b"
   },
   "outputs": [],
   "source": [
    "#Remove big chunk if not usefull data\n",
    "df_only_articles = df_page.loc[df_page['ArticleYN'] == 1]\n",
    "df_only_articles['visitstarttime'] = pd.to_datetime(df_only_articles['visitstarttime'])"
   ]
  },
  {
   "cell_type": "code",
   "execution_count": null,
   "metadata": {
    "colab": {},
    "colab_type": "code",
    "collapsed": true,
    "id": "eDKNKTAnJdmi"
   },
   "outputs": [],
   "source": [
    "#Only article csv\n",
    "df_only_articles.to_csv('clean_page_only_articles.csv', index=False)"
   ]
  },
  {
   "cell_type": "code",
   "execution_count": null,
   "metadata": {
    "colab": {},
    "colab_type": "code",
    "collapsed": true,
    "id": "yWsgzWOiaSL-"
   },
   "outputs": [],
   "source": [
    "#Only for truncated period\n",
    "def popularity_period(months,dataframe, column_name_data):\n",
    "  delta_months = dt.timedelta(days = 30*months)\n",
    "  date_truncate = dt.datetime(2019, 1, 1, 00, 00) - delta_months   #dt.datetime(2019, 1, 1, 00, 00) should be replaced by dt.datetime.now()\n",
    "  dataframe = dataframe[dataframe[column_name_data] >= date_truncate]\n",
    "  \n",
    "  return dataframe"
   ]
  },
  {
   "cell_type": "code",
   "execution_count": null,
   "metadata": {
    "colab": {},
    "colab_type": "code",
    "collapsed": true,
    "id": "-bGeSzwtcSDG"
   },
   "outputs": [],
   "source": [
    "#### HYPERPARAMETER MONTHS!!! ####\n",
    "#Truncate the data on number of months\n",
    "df_truncated = popularity_period(months = 3, dataframe = df_only_articles, column_name_data = 'visitstarttime')"
   ]
  },
  {
   "cell_type": "code",
   "execution_count": null,
   "metadata": {
    "colab": {},
    "colab_type": "code",
    "collapsed": true,
    "id": "AY4iO4rtZqQW"
   },
   "outputs": [],
   "source": [
    "merged_truncated = pd.merge(df_truncated, df_urls[['URL', 'TITLE']], left_on = 'URL', right_on='URL', how='left')\n",
    "df_merged_truncated = merged_truncated.dropna()\n",
    "df_popcount = pd.DataFrame(df_merged_truncated.groupby(['TITLE','URL']).size()).reset_index()\n",
    "df_popcount.columns = ['TITLE', 'URL', 'COUNT']"
   ]
  },
  {
   "cell_type": "code",
   "execution_count": null,
   "metadata": {
    "colab": {},
    "colab_type": "code",
    "collapsed": true,
    "id": "jlf7ZqK1qywa"
   },
   "outputs": [],
   "source": [
    "#Sigmoid function\n",
    "def log_function (A,K,B,v,Q,C,M,x):\n",
    "  Y = A + (K-A)/((C+np.exp(-B*(x-M)))**(1/v))\n",
    "  return Y"
   ]
  },
  {
   "cell_type": "code",
   "execution_count": null,
   "metadata": {
    "colab": {},
    "colab_type": "code",
    "collapsed": true,
    "id": "yWPSH8C83sfC"
   },
   "outputs": [],
   "source": [
    "#Calculate midpoint with percentile on the right hand side\n",
    "\n",
    "def find_midpoint(midpoint_percentile, dataframe, columnname):\n",
    "  df = dataframe.sort_values([columnname], ascending = True) #Lowest on top\n",
    "  length = len(df)\n",
    "  index = round(length*(1-midpoint_percentile)) #Calculate index on which the percentile is crossed\n",
    "  midpoint = df.iloc[index][columnname] #Find the view value on this index\n",
    "  \n",
    "  return midpoint"
   ]
  },
  {
   "cell_type": "code",
   "execution_count": null,
   "metadata": {
    "colab": {},
    "colab_type": "code",
    "collapsed": true,
    "id": "6m9Va9QkuQCf"
   },
   "outputs": [],
   "source": [
    "midpoint = find_midpoint(0.01,df_popcount,'COUNT') #Position of max learning rate\n",
    "max_weight = 1 #Weight will be 1+max_weight\n",
    "growth_rate = 30/max(df_popcount['COUNT'].values) #Defines steepness in function of the reading value"
   ]
  },
  {
   "cell_type": "code",
   "execution_count": null,
   "metadata": {
    "colab": {},
    "colab_type": "code",
    "collapsed": true,
    "id": "3W-hg5AJ8Uo8"
   },
   "outputs": [],
   "source": [
    "#Plot different scenarios\n",
    "percentile = [0.25,0.1,0.05,0.01,0.005]\n",
    "growth_rate_top = [10,25,50,75,100]\n",
    "max_weight_list = [0.1,0.2,0.5,0.8,1]\n",
    "growth_rate_list = growth_rate_top/max(df_popcount['COUNT'].values)\n",
    "\n",
    "x = np.arange(0,max(df_popcount['COUNT'].values),0.025)\n",
    "\n",
    "#Different midpoint percentiles with as growth rate 25/max(count)\n",
    "y_per_1 = log_function(A=0.0,K=max_weight,B=growth_rate_list[1],v=1,Q=1,C=1,M=find_midpoint(percentile[0],df_popcount,'COUNT'), x = x)\n",
    "y_per_2 = log_function(A=0.0,K=max_weight,B=growth_rate_list[1],v=1,Q=1,C=1,M=find_midpoint(percentile[1],df_popcount,'COUNT'), x = x)\n",
    "y_per_3 = log_function(A=0.0,K=max_weight,B=growth_rate_list[1],v=1,Q=1,C=1,M=find_midpoint(percentile[2],df_popcount,'COUNT'), x = x)\n",
    "y_per_4 = log_function(A=0.0,K=max_weight,B=growth_rate_list[1],v=1,Q=1,C=1,M=find_midpoint(percentile[3],df_popcount,'COUNT'), x = x)\n",
    "y_per_5 = log_function(A=0.0,K=max_weight,B=growth_rate_list[1],v=1,Q=1,C=1,M=find_midpoint(percentile[4],df_popcount,'COUNT'), x = x)\n",
    "\n",
    "#Different growth rates with as percentile 0.01\n",
    "y_gr_1 = log_function(A=0.0,K=max_weight,B=growth_rate_list[0],v=1,Q=1,C=1,M=find_midpoint(percentile[3],df_popcount,'COUNT'), x = x)\n",
    "y_gr_2 = log_function(A=0.0,K=max_weight,B=growth_rate_list[1],v=1,Q=1,C=1,M=find_midpoint(percentile[3],df_popcount,'COUNT'), x = x)\n",
    "y_gr_3 = log_function(A=0.0,K=max_weight,B=growth_rate_list[2],v=1,Q=1,C=1,M=find_midpoint(percentile[3],df_popcount,'COUNT'), x = x)\n",
    "y_gr_4 = log_function(A=0.0,K=max_weight,B=growth_rate_list[3],v=1,Q=1,C=1,M=find_midpoint(percentile[3],df_popcount,'COUNT'), x = x)\n",
    "y_gr_5 = log_function(A=0.0,K=max_weight,B=growth_rate_list[4],v=1,Q=1,C=1,M=find_midpoint(percentile[3],df_popcount,'COUNT'), x = x)\n",
    "\n",
    "#Different upper asymptotes with as percentile 0.01\n",
    "y_up_1 = log_function(A=0.0,K=max_weight_list[0],B=growth_rate_list[1],v=1,Q=1,C=1,M=find_midpoint(percentile[3],df_popcount,'COUNT'), x = x)\n",
    "y_up_2 = log_function(A=0.0,K=max_weight_list[1],B=growth_rate_list[1],v=1,Q=1,C=1,M=find_midpoint(percentile[3],df_popcount,'COUNT'), x = x)\n",
    "y_up_3 = log_function(A=0.0,K=max_weight_list[2],B=growth_rate_list[1],v=1,Q=1,C=1,M=find_midpoint(percentile[3],df_popcount,'COUNT'), x = x)\n",
    "y_up_4 = log_function(A=0.0,K=max_weight_list[3],B=growth_rate_list[1],v=1,Q=1,C=1,M=find_midpoint(percentile[3],df_popcount,'COUNT'), x = x)\n",
    "y_up_5 = log_function(A=0.0,K=max_weight_list[4],B=growth_rate_list[1],v=1,Q=1,C=1,M=find_midpoint(percentile[3],df_popcount,'COUNT'), x = x)"
   ]
  },
  {
   "cell_type": "code",
   "execution_count": null,
   "metadata": {
    "colab": {
     "base_uri": "https://localhost:8080/",
     "height": 380
    },
    "colab_type": "code",
    "executionInfo": {
     "elapsed": 2445,
     "status": "ok",
     "timestamp": 1552323089206,
     "user": {
      "displayName": "Arno Claes",
      "photoUrl": "",
      "userId": "18358942717775719175"
     },
     "user_tz": -60
    },
    "id": "36ErqIwjmq6l",
    "outputId": "4c50c79a-e372-4d45-a8f6-8badf023e1b3"
   },
   "outputs": [],
   "source": [
    "sns.set_style(\"white\")\n",
    "\n",
    "plt.plot( x , y_up_1, linestyle = ':', color='blue', linewidth=2, ms = 10, markevery = 40000)\n",
    "plt.plot( x , y_up_2, linestyle = '--', color='olive', linewidth=2, ms = 10, markevery = 40000)\n",
    "plt.plot( x , y_up_3, color='coral', linewidth=2, ms = 10, markevery = 40000)\n",
    "plt.plot( x , y_up_4, marker = '.', color='m', linewidth=2, ms = 10, markevery = 40000)\n",
    "plt.plot( x , y_up_5, linestyle = '-.', color='brown', linewidth=2, ms = 10, markevery = 40000)\n",
    "plt.legend(['0.1', '0.2', '0.5', '0.8', '1.0'], loc='upper left', prop={'size': 18})\n",
    "plt.grid()\n",
    "plt.xlabel('Number of article-clicks', fontsize = 22)\n",
    "plt.ylabel('Weight', fontsize = 22)\n",
    "plt.tick_params(labelsize = 18)\n",
    "plt.show()"
   ]
  },
  {
   "cell_type": "code",
   "execution_count": null,
   "metadata": {
    "colab": {
     "base_uri": "https://localhost:8080/",
     "height": 569
    },
    "colab_type": "code",
    "executionInfo": {
     "elapsed": 3309,
     "status": "ok",
     "timestamp": 1552323252247,
     "user": {
      "displayName": "Arno Claes",
      "photoUrl": "",
      "userId": "18358942717775719175"
     },
     "user_tz": -60
    },
    "id": "cgS46flR97wo",
    "outputId": "bd3aefc0-3825-4c77-9583-62300d4864dc"
   },
   "outputs": [],
   "source": [
    "sns.set_style(\"white\")\n",
    "\n",
    "fig_size = plt.rcParams['figure.figsize']\n",
    "fig_size[0] = 12\n",
    "fig_size[1] = 9\n",
    "\n",
    "plt.plot( x , y_per_1, linestyle = ':', color='blue', linewidth=2, ms = 10, markevery = 40000)\n",
    "plt.plot( x , y_per_2, linestyle = '--', color='olive', linewidth=2, ms = 10, markevery = 40000)\n",
    "plt.plot( x , y_per_3, color='coral', linewidth=2, ms = 10, markevery = 40000)\n",
    "plt.plot( x , y_per_4, marker = '.', color='m', linewidth=2, ms = 10, markevery = 40000)\n",
    "plt.plot( x , y_per_5, linestyle = '-.', color='brown', linewidth=2, ms = 10, markevery = 40000)\n",
    "plt.legend(['0.25 percentile', '0.1 percentile', '0.05 percentile', '0.01 percentile', '0.005 percentile'], loc='lower right', prop={'size': 20})\n",
    "plt.xlabel('Number of article-clicks', fontsize = 22)\n",
    "plt.ylabel('Weight', fontsize = 22)\n",
    "plt.grid()\n",
    "plt.tick_params(labelsize = 18)\n",
    "plt.show()"
   ]
  },
  {
   "cell_type": "code",
   "execution_count": null,
   "metadata": {
    "colab": {
     "base_uri": "https://localhost:8080/",
     "height": 35
    },
    "colab_type": "code",
    "executionInfo": {
     "elapsed": 325,
     "status": "ok",
     "timestamp": 1549476716235,
     "user": {
      "displayName": "Arno Claes",
      "photoUrl": "",
      "userId": "18358942717775719175"
     },
     "user_tz": -60
    },
    "id": "_QgxRwI5AhuP",
    "outputId": "6e4cc910-b022-4c49-d77c-14326ea438cf"
   },
   "outputs": [],
   "source": [
    "growth_rate_top"
   ]
  },
  {
   "cell_type": "code",
   "execution_count": null,
   "metadata": {
    "colab": {
     "base_uri": "https://localhost:8080/",
     "height": 569
    },
    "colab_type": "code",
    "executionInfo": {
     "elapsed": 2712,
     "status": "ok",
     "timestamp": 1552323250173,
     "user": {
      "displayName": "Arno Claes",
      "photoUrl": "",
      "userId": "18358942717775719175"
     },
     "user_tz": -60
    },
    "id": "MosEU8LD901e",
    "outputId": "54b0c99e-cd62-402b-e5fc-7ff9d20992cd"
   },
   "outputs": [],
   "source": [
    "sns.set_style(\"white\")\n",
    "\n",
    "fig_size = plt.rcParams['figure.figsize']\n",
    "fig_size[0] = 12\n",
    "fig_size[1] = 9\n",
    "\n",
    "plt.plot( x , y_gr_1, linestyle = ':', color='blue', linewidth=2, ms = 10, markevery = 40000)\n",
    "plt.plot( x , y_gr_2, linestyle = '--', color='olive', linewidth=2, ms = 10, markevery = 40000)\n",
    "plt.plot( x , y_gr_3, color='coral', linewidth=2, ms = 10, markevery = 40000)\n",
    "plt.plot( x , y_gr_4, marker = '.', color='m', linewidth=2, ms = 10, markevery = 40000)\n",
    "plt.plot( x , y_gr_5, linestyle = '-.', color='brown', linewidth=2, ms = 10, markevery = 40000)\n",
    "plt.legend(['10/max(count)', '25/max(count)', '50/max(count)', '75/max(count)', '100/max(count)'], loc='lower right', prop={'size': 20})\n",
    "plt.xlabel('Number of article-clicks', fontsize = 22)\n",
    "plt.grid()\n",
    "plt.tick_params(labelsize = 18)\n",
    "plt.show()"
   ]
  },
  {
   "cell_type": "code",
   "execution_count": null,
   "metadata": {
    "colab": {
     "base_uri": "https://localhost:8080/",
     "height": 586
    },
    "colab_type": "code",
    "executionInfo": {
     "elapsed": 1259,
     "status": "ok",
     "timestamp": 1552323407735,
     "user": {
      "displayName": "Arno Claes",
      "photoUrl": "",
      "userId": "18358942717775719175"
     },
     "user_tz": -60
    },
    "id": "fVlp02OxvUBD",
    "outputId": "29302556-5d81-452f-ec3b-d16e2921402a"
   },
   "outputs": [],
   "source": [
    "#Make visualization of the function\n",
    "sns.set_style(\"white\")\n",
    "\n",
    "fig_size = plt.rcParams['figure.figsize']\n",
    "fig_size[0] = 12\n",
    "fig_size[1] = 9\n",
    "\n",
    "x = np.arange(0,max(df_popcount['COUNT'].values),0.025)\n",
    "y = log_function(A=0.0,K=1,B=growth_rate,v=1,Q=1,C=1,M=midpoint, x = x)\n",
    "plt.xlabel('Number of article-clicks', fontsize = 22)\n",
    "plt.ylabel('Weight', fontsize = 22)\n",
    "plt.grid()\n",
    "plt.tick_params(labelsize = 18)\n",
    "plt.plot(x, y)"
   ]
  },
  {
   "cell_type": "code",
   "execution_count": null,
   "metadata": {
    "colab": {},
    "colab_type": "code",
    "collapsed": true,
    "id": "dyu4A1_0vX4L"
   },
   "outputs": [],
   "source": [
    "#Run the weighing function over the page data\n",
    "df_popcount['popularity_weight'] = log_function(A=0.0,K=1,B=growth_rate,v=1,Q=1,C=1,M=midpoint, x = df_popcount['COUNT'].values) "
   ]
  },
  {
   "cell_type": "code",
   "execution_count": null,
   "metadata": {
    "colab": {
     "base_uri": "https://localhost:8080/",
     "height": 1906
    },
    "colab_type": "code",
    "executionInfo": {
     "elapsed": 594,
     "status": "ok",
     "timestamp": 1551875694610,
     "user": {
      "displayName": "Arno Claes",
      "photoUrl": "",
      "userId": "18358942717775719175"
     },
     "user_tz": -60
    },
    "id": "Y1zEaie7vnwl",
    "outputId": "445f502d-ed1a-476f-aabb-77c5491b4fc2"
   },
   "outputs": [],
   "source": [
    "#Visual Check\n",
    "df_popcount.sort_values(['COUNT'],ascending=False)"
   ]
  },
  {
   "cell_type": "code",
   "execution_count": null,
   "metadata": {
    "colab": {},
    "colab_type": "code",
    "collapsed": true,
    "id": "RWX3cSdV76Ev"
   },
   "outputs": [],
   "source": [
    "#Save to csv\n",
    "df_popcount.to_csv('/content/drive/My Drive/Knab/Data/CleanData/Popularity_score.csv', index=False)"
   ]
  },
  {
   "cell_type": "code",
   "execution_count": null,
   "metadata": {
    "colab": {},
    "colab_type": "code",
    "collapsed": true,
    "id": "yl8EDdMnABSw"
   },
   "outputs": [],
   "source": []
  }
 ],
 "metadata": {
  "colab": {
   "collapsed_sections": [],
   "name": "ItemPopularity.ipynb",
   "provenance": [],
   "version": "0.3.2"
  },
  "kernelspec": {
   "display_name": "Python 3",
   "language": "python",
   "name": "python3"
  },
  "language_info": {
   "codemirror_mode": {
    "name": "ipython",
    "version": 3
   },
   "file_extension": ".py",
   "mimetype": "text/x-python",
   "name": "python",
   "nbconvert_exporter": "python",
   "pygments_lexer": "ipython3",
   "version": "3.6.3"
  }
 },
 "nbformat": 4,
 "nbformat_minor": 1
}
